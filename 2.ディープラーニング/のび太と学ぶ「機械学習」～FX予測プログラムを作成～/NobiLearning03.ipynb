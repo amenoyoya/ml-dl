{
 "cells": [
  {
   "cell_type": "code",
   "execution_count": 8,
   "metadata": {},
   "outputs": [
    {
     "name": "stdout",
     "output_type": "stream",
     "text": [
      "回帰式モデルの係数\n",
      "-0.0008759382460128329\n",
      "[-1.83561369e+10 -1.83561369e+10 -1.83561369e+10 -1.83561369e+10\n",
      " -1.83561369e+10 -1.83561369e+10 -1.83561369e+10 -1.83561369e+10\n",
      " -1.83561369e+10 -1.83561369e+10 -1.83561369e+10 -1.83561369e+10\n",
      " -1.83561369e+10 -1.83561369e+10 -1.83561369e+10 -1.83561369e+10\n",
      " -1.83561369e+10 -1.83561369e+10 -1.83561369e+10 -1.83561369e+10\n",
      " -1.83561369e+10 -1.83561369e+10 -1.83561369e+10 -1.83561369e+10\n",
      " -1.83561369e+10]\n",
      "予測日数：214、正答日数：103正答率：48.13084112149533\n",
      "2017年の利益合計：0.245\n"
     ]
    },
    {
     "data": {
      "text/plain": [
       "[<matplotlib.lines.Line2D at 0x2cc30d0>]"
      ]
     },
     "execution_count": 8,
     "metadata": {},
     "output_type": "execute_result"
    },
    {
     "data": {
      "image/png": "[encoded data removed]",
      "text/plain": [
       "<Figure size 432x288 with 1 Axes>"
      ]
     },
     "metadata": {},
     "output_type": "display_data"
    }
   ],
   "source": [
    "import numpy as np\n",
    "import pandas as pd\n",
    "import matplotlib.pylab as plt\n",
    "import seaborn as sns\n",
    "import warnings\n",
    "warnings.filterwarnings('ignore')\n",
    "\n",
    "%matplotlib inline\n",
    "\n",
    "data = pd.read_csv(\"./USDJPY_1997_2017.csv\") # FXデータの読み込み（データは同じリポジトリのdataフォルダに入っています）\n",
    "data.head() # データの概要を見てみます\n",
    "\n",
    "# pandasのDataFrameのままでは、扱いにくい+実行速度が遅いので、numpyに変換して処理します\n",
    "data2 = np.array(data)\n",
    "\n",
    "# 説明変数となる行列Xを作成します\n",
    "day_ago = 25 # 何日前までのデータを使用するのかを設定\n",
    "num_sihyou = 1 # 終値\n",
    "\n",
    "X = np.zeros((len(data2), day_ago*num_sihyou)) \n",
    "\n",
    "# 終値をfor文でday_ago日前まで一気に追加する\n",
    "for i in range(0, day_ago):\n",
    "    X[i:len(data2),i] = data2[0:len(data2)-i,4]\n",
    "\n",
    "# Xの確認です\n",
    "data_show = pd.DataFrame(X)\n",
    "data_show\n",
    "\n",
    "# 被説明変数となる Y = pre_day後の終値-当日終値 を作成します\n",
    "Y = np.zeros(len(data2))\n",
    "\n",
    "# 何日後の値段の差を予測するのか決めます\n",
    "pre_day = 1\n",
    "Y[0:len(Y)-pre_day] = X[pre_day:len(X),0] - X[0:len(X)-pre_day,0]\n",
    "\n",
    "# 【重要】X, Yを正規化します\n",
    "original_X = np.copy(X) # コピーするときは、そのままイコールではダメ\n",
    "tmp_mean = np.zeros(len(X))\n",
    "\n",
    "for i in range(day_ago,len(X)):\n",
    "    tmp_mean[i] = np.mean(original_X[i-day_ago+1:i+1,0]) # 25日分の平均値\n",
    "    for j in range(0, X.shape[1]): \n",
    "        X[i,j] = (X[i,j] - tmp_mean[i]) # Xを正規化\n",
    "    Y[i] =  Y[i]  # X同士の引き算しているので、Yはそのまま\n",
    "\n",
    "# XとYを学習データとテストデータ(2017年～)に分ける\n",
    "X_train = X[200:5193,:] # 次のプログラムで200日平均を使うので、それ以降を学習データに使用します\n",
    "Y_train = Y[200:5193]\n",
    "\n",
    "X_test = X[5193:len(X)-pre_day,:]\n",
    "Y_test = Y[5193:len(Y)-pre_day]\n",
    "\n",
    "# 学習データを使用して、線形回帰モデルを作成します\n",
    "from sklearn import linear_model # scikit-learnライブラリの関数を使用します\n",
    "linear_reg_model = linear_model.LinearRegression()\n",
    "\n",
    "linear_reg_model.fit(X_train, Y_train) # モデルに対して、学習データをフィットさせ係数を学習させます\n",
    "\n",
    "print(\"回帰式モデルの係数\")\n",
    "print(linear_reg_model.intercept_) \n",
    "print(linear_reg_model.coef_)\n",
    "\n",
    "# 2017年のデータで予想し、グラフで予測具合を見る\n",
    "Y_pred = linear_reg_model.predict(X_test) # 予測する\n",
    "\n",
    "result = pd.DataFrame(Y_pred) # 予測\n",
    "result.columns = ['Y_pred']\n",
    "result['Y_test'] = Y_test\n",
    "\n",
    "#sns.set_style('darkgrid') \n",
    "#sns.regplot(x='Y_pred', y='Y_test', data=result) #plotする\n",
    "\n",
    "# 正答率を計算\n",
    "success_num = 0\n",
    "for i in range(len(Y_pred)):\n",
    "    if Y_pred[i] * Y_test[i] >=0:\n",
    "        success_num+=1\n",
    "\n",
    "print(\"予測日数：\"+ str(len(Y_pred))+\"、正答日数：\"+str(success_num)+\"正答率：\"+str(success_num/len(Y_pred)*100))\n",
    "\n",
    "# 2017年の予測結果の合計を計算ーーーーーーーーー\n",
    "# 前々日終値に比べて前日終値が高い場合は、買いとする\n",
    "sum_2017 = 0\n",
    "\n",
    "for i in range(0,len(Y_test)): # len()で要素数を取得しています\n",
    "    if Y_pred[i] >= 0:\n",
    "        sum_2017 += Y_test[i]\n",
    "    else:\n",
    "        sum_2017 -= Y_test[i]\n",
    "\n",
    "print(\"2017年の利益合計：%1.3lf\" %sum_2017) \n",
    "\n",
    "\n",
    "# 予測結果の総和グラフを描くーーーーーーーーー\n",
    "total_return = np.zeros(len(Y_test))\n",
    "\n",
    "if Y_pred[i] >=0: # 2017年の初日を格納\n",
    "    total_return[0] = Y_test[i]\n",
    "else:\n",
    "    total_return[0] = -Y_test[i]\n",
    "\n",
    "for i in range(1, len(result)): # 2017年の2日以降を格納\n",
    "    if Y_pred[i] >=0:\n",
    "        total_return[i] = total_return[i-1] + Y_test[i]\n",
    "    else:\n",
    "        total_return[i] = total_return[i-1] - Y_test[i]\n",
    "\n",
    "plt.plot(total_return)"
   ]
  },
  {
   "cell_type": "code",
   "execution_count": null,
   "metadata": {},
   "outputs": [],
   "source": []
  }
 ],
 "metadata": {
  "kernelspec": {
   "display_name": "Python 3",
   "language": "python",
   "name": "python3"
  },
  "language_info": {
   "codemirror_mode": {
    "name": "ipython",
    "version": 3
   },
   "file_extension": ".py",
   "mimetype": "text/x-python",
   "name": "python",
   "nbconvert_exporter": "python",
   "pygments_lexer": "ipython3",
   "version": "3.6.3"
  }
 },
 "nbformat": 4,
 "nbformat_minor": 2
}
