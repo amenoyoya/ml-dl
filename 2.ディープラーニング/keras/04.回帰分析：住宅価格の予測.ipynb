{
 "cells": [
  {
   "cell_type": "markdown",
   "metadata": {},
   "source": [
    "# 回帰分析：住宅価格の予測\n",
    "\n",
    "　回帰分析では、離散的なラベルではなく連続値を予測する。例えば、気象データに基づいて明日の天気を予測したり、ソフトウェアプロジェクトの仕様に基づいてプロジェクトの完了にかかる時間を予測したりする。\n",
    "\n",
    "> **回帰**と**ロジスティック回帰**を混同しないように注意。紛らわしいことに、ロジスティック回帰は回帰アルゴリズムではなく、分類アルゴリズムである。\n",
    "\n",
    "## Boston Housingデータセット\n",
    "\n",
    "　今回は、1970年代のボストン近郊の住宅価格の予測を行う。この予測には、犯罪発生率や地方財産税の税率など、当時のボストン近郊に関するデータセット（Boston Housingデータセット）を用いる。\n",
    "\n",
    "　このデータセットに含まれるデータ数は506個と少なく、404の訓練サンプルと102のテストサンプルに分割されている。また、入力データの**特徴量**（犯罪発生率など）はそれぞれ異なる尺度を使用している。例えば、割合を0～1で表しているものもあれば、1～12の値を取るもの、0～100％で表されるものもある。そのため、訓練データの準備には一工夫が必要になる。"
   ]
  },
  {
   "cell_type": "code",
   "execution_count": 1,
   "metadata": {},
   "outputs": [
    {
     "name": "stderr",
     "output_type": "stream",
     "text": [
      "Using TensorFlow backend.\n"
     ]
    },
    {
     "name": "stdout",
     "output_type": "stream",
     "text": [
      "Downloading data from https://s3.amazonaws.com/keras-datasets/boston_housing.npz\n",
      "57344/57026 [==============================] - 0s 6us/step\n"
     ]
    }
   ],
   "source": [
    "# Boston Housingデータセットの読み込み\n",
    "from keras.datasets import boston_housing\n",
    "(train_data, train_targets), (test_data, test_targets) = boston_housing.load_data()"
   ]
  },
  {
   "cell_type": "code",
   "execution_count": 2,
   "metadata": {},
   "outputs": [
    {
     "name": "stdout",
     "output_type": "stream",
     "text": [
      "(404, 13) (102, 13)\n"
     ]
    }
   ],
   "source": [
    "# 特徴量の確認\n",
    "print(train_data.shape, test_data.shape) # -> 13種類の特徴量がある"
   ]
  },
  {
   "cell_type": "code",
   "execution_count": 3,
   "metadata": {},
   "outputs": [
    {
     "data": {
      "text/plain": [
       "array([15.2, 42.3, 50. , 21.1, 17.7, 18.5, 11.3, 15.6, 15.6, 14.4, 12.1,\n",
       "       17.9, 23.1, 19.9, 15.7,  8.8, 50. , 22.5, 24.1, 27.5, 10.9, 30.8,\n",
       "       32.9, 24. , 18.5, 13.3, 22.9, 34.7, 16.6, 17.5, 22.3, 16.1, 14.9,\n",
       "       23.1, 34.9, 25. , 13.9, 13.1, 20.4, 20. , 15.2, 24.7, 22.2, 16.7,\n",
       "       12.7, 15.6, 18.4, 21. , 30.1, 15.1, 18.7,  9.6, 31.5, 24.8, 19.1,\n",
       "       22. , 14.5, 11. , 32. , 29.4, 20.3, 24.4, 14.6, 19.5, 14.1, 14.3,\n",
       "       15.6, 10.5,  6.3, 19.3, 19.3, 13.4, 36.4, 17.8, 13.5, 16.5,  8.3,\n",
       "       14.3, 16. , 13.4, 28.6, 43.5, 20.2, 22. , 23. , 20.7, 12.5, 48.5,\n",
       "       14.6, 13.4, 23.7, 50. , 21.7, 39.8, 38.7, 22.2, 34.9, 22.5, 31.1,\n",
       "       28.7, 46. , 41.7, 21. , 26.6, 15. , 24.4, 13.3, 21.2, 11.7, 21.7,\n",
       "       19.4, 50. , 22.8, 19.7, 24.7, 36.2, 14.2, 18.9, 18.3, 20.6, 24.6,\n",
       "       18.2,  8.7, 44. , 10.4, 13.2, 21.2, 37. , 30.7, 22.9, 20. , 19.3,\n",
       "       31.7, 32. , 23.1, 18.8, 10.9, 50. , 19.6,  5. , 14.4, 19.8, 13.8,\n",
       "       19.6, 23.9, 24.5, 25. , 19.9, 17.2, 24.6, 13.5, 26.6, 21.4, 11.9,\n",
       "       22.6, 19.6,  8.5, 23.7, 23.1, 22.4, 20.5, 23.6, 18.4, 35.2, 23.1,\n",
       "       27.9, 20.6, 23.7, 28. , 13.6, 27.1, 23.6, 20.6, 18.2, 21.7, 17.1,\n",
       "        8.4, 25.3, 13.8, 22.2, 18.4, 20.7, 31.6, 30.5, 20.3,  8.8, 19.2,\n",
       "       19.4, 23.1, 23. , 14.8, 48.8, 22.6, 33.4, 21.1, 13.6, 32.2, 13.1,\n",
       "       23.4, 18.9, 23.9, 11.8, 23.3, 22.8, 19.6, 16.7, 13.4, 22.2, 20.4,\n",
       "       21.8, 26.4, 14.9, 24.1, 23.8, 12.3, 29.1, 21. , 19.5, 23.3, 23.8,\n",
       "       17.8, 11.5, 21.7, 19.9, 25. , 33.4, 28.5, 21.4, 24.3, 27.5, 33.1,\n",
       "       16.2, 23.3, 48.3, 22.9, 22.8, 13.1, 12.7, 22.6, 15. , 15.3, 10.5,\n",
       "       24. , 18.5, 21.7, 19.5, 33.2, 23.2,  5. , 19.1, 12.7, 22.3, 10.2,\n",
       "       13.9, 16.3, 17. , 20.1, 29.9, 17.2, 37.3, 45.4, 17.8, 23.2, 29. ,\n",
       "       22. , 18. , 17.4, 34.6, 20.1, 25. , 15.6, 24.8, 28.2, 21.2, 21.4,\n",
       "       23.8, 31. , 26.2, 17.4, 37.9, 17.5, 20. ,  8.3, 23.9,  8.4, 13.8,\n",
       "        7.2, 11.7, 17.1, 21.6, 50. , 16.1, 20.4, 20.6, 21.4, 20.6, 36.5,\n",
       "        8.5, 24.8, 10.8, 21.9, 17.3, 18.9, 36.2, 14.9, 18.2, 33.3, 21.8,\n",
       "       19.7, 31.6, 24.8, 19.4, 22.8,  7.5, 44.8, 16.8, 18.7, 50. , 50. ,\n",
       "       19.5, 20.1, 50. , 17.2, 20.8, 19.3, 41.3, 20.4, 20.5, 13.8, 16.5,\n",
       "       23.9, 20.6, 31.5, 23.3, 16.8, 14. , 33.8, 36.1, 12.8, 18.3, 18.7,\n",
       "       19.1, 29. , 30.1, 50. , 50. , 22. , 11.9, 37.6, 50. , 22.7, 20.8,\n",
       "       23.5, 27.9, 50. , 19.3, 23.9, 22.6, 15.2, 21.7, 19.2, 43.8, 20.3,\n",
       "       33.2, 19.9, 22.5, 32.7, 22. , 17.1, 19. , 15. , 16.1, 25.1, 23.7,\n",
       "       28.7, 37.2, 22.6, 16.4, 25. , 29.8, 22.1, 17.4, 18.1, 30.3, 17.5,\n",
       "       24.7, 12.6, 26.5, 28.7, 13.3, 10.4, 24.4, 23. , 20. , 17.8,  7. ,\n",
       "       11.8, 24.4, 13.8, 19.4, 25.2, 19.4, 19.4, 29.1])"
      ]
     },
     "execution_count": 3,
     "metadata": {},
     "output_type": "execute_result"
    }
   ],
   "source": [
    "# 住宅価格の確認\n",
    "train_targets"
   ]
  },
  {
   "cell_type": "markdown",
   "metadata": {},
   "source": [
    "　住宅価格は1,000ドル単位のため、上記の出力データから考えると、住宅価格は主に10,000～50,000ドルである。中央値を取ると30,000ドルとなる。"
   ]
  },
  {
   "cell_type": "markdown",
   "metadata": {},
   "source": [
    "## データの準備\n",
    "\n",
    "　それぞれ全く異なる範囲の値を取る特徴量をニューラルネットワークに供給するためのベストプラクティスは、特徴量ごとの正規化である。入力データの特徴量（入力データ行列の列）ごとに「特徴量の平均値を引き、標準偏差で割る」という処理を行うことで、特徴量の中心が0になり、標準偏差が1になる。"
   ]
  },
  {
   "cell_type": "code",
   "execution_count": 4,
   "metadata": {},
   "outputs": [],
   "source": [
    "# データの正規化\n",
    "mean = train_data.mean(axis=0) # 列ごとの平均\n",
    "x_train = train_data - mean\n",
    "std = train_data.std(axis=0) # 列ごとの標準偏差\n",
    "x_train /= std\n",
    "\n",
    "# テストデータの正規化に使用する値は訓練データのものを使う\n",
    "x_test = (test_data - mean) / std"
   ]
  },
  {
   "cell_type": "markdown",
   "metadata": {},
   "source": [
    "## ニューラルネットワークの構築\n",
    "\n",
    "　利用可能なサンプルの数が少ないため、なるべく小さなネットワークを使うべきである。一般的に、訓練データの数が少ないほど過学習に陥りやすくなるため、小さいネットワークを使うことで過学習を抑制するのが定石である。\n",
    "\n",
    "　今回は、64ユニットの隠れ層を2つ持つニューラルネットワークを構築する。"
   ]
  },
  {
   "cell_type": "code",
   "execution_count": 5,
   "metadata": {},
   "outputs": [],
   "source": [
    "from keras import models\n",
    "from keras import layers\n",
    "\n",
    "# 同じモデルを複数回インスタンス化する必要があるため、モデル作成関数を準備\n",
    "def build_model():\n",
    "    model = models.Sequential()\n",
    "    model.add(layers.Dense(64, activation='relu', input_dim=train_data.shape[1]))\n",
    "    model.add(layers.Dense(64, activation='relu'))\n",
    "    # 住宅価格を出力するだけなので、出力層は1ユニットのスカラー回帰層で良い\n",
    "    model.add(layers.Dense(1)) # スカラー回帰：連続値をひとつだけ予測する回帰\n",
    "    # 損失関数に平均二乗誤差(mse)を採用：予測値と目的値の誤差を最小化していく\n",
    "    # 指標に平均絶対誤差(mae)を採用：予測値と目的値の差の絶対値を監視\n",
    "    model.compile(optimizer='rmsprop', loss='mse', metrics=['mae'])\n",
    "    return model"
   ]
  },
  {
   "cell_type": "markdown",
   "metadata": {},
   "source": [
    "## 検証データの準備\n",
    "\n",
    "　訓練データの数が少なく、単純に分割すると検証データの数が非常に少なくなってしまうような場合、**k分割交差検証**を使用すると良い。k分割交差検証では、利用可能なデータをK個のサンプルセット（フィールド）に分割し、全く同じモデルのインスタンスをK個作成する。その後、各モデルをK-1個のフィールドで訓練し、残り1個のフィールドで評価する。そして、K個の検証スコアの平均を求めることで、検証による評価値を算出する。\n",
    "\n",
    "例）3分割交差検証  \n",
    "データを3つのフィールドに分割  \n",
    "　↓  \n",
    "フィールド①：|検証| |訓練| |訓練|　→　検証スコア①  \n",
    "フィールド②：|訓練| |検証| |訓練|　→　検証スコア②  \n",
    "フィールド③：|訓練| |訓練| |検証|　→　検証スコア③  \n",
    "　↓  \n",
    "最終スコア＝検証スコア①～③の平均値"
   ]
  },
  {
   "cell_type": "code",
   "execution_count": 6,
   "metadata": {},
   "outputs": [
    {
     "name": "stdout",
     "output_type": "stream",
     "text": [
      "processing fold # 0\n",
      "processing fold # 1\n",
      "processing fold # 2\n",
      "processing fold # 3\n"
     ]
    }
   ],
   "source": [
    "''' k分割交差検証 '''\n",
    "import numpy as np\n",
    "\n",
    "k = 4\n",
    "n_val_samples = len(train_data) // k\n",
    "n_epochs = 100\n",
    "all_scores = []\n",
    "\n",
    "for i in range(k): # GeForce GTX 1070 で～4分程度\n",
    "    print(\"processing fold #\", i)\n",
    "    \n",
    "    # 検証データ準備\n",
    "    val_data = x_train[i * n_val_samples : (i+1) * n_val_samples]\n",
    "    val_targets = train_targets[i * n_val_samples : (i+1) * n_val_samples]\n",
    "    \n",
    "    # 訓練データ準備：残りのフィールドのデータ\n",
    "    partial_train_data = np.concatenate([x_train[: i * n_val_samples], x_train[(i+1) * n_val_samples :]], axis=0)\n",
    "    partial_train_targets = np.concatenate([train_targets[: i * n_val_samples], train_targets[(i+1) * n_val_samples :]], axis=0)\n",
    "    \n",
    "    # モデル構築\n",
    "    model = build_model()\n",
    "    \n",
    "    # モデルをサイレントモードで訓練\n",
    "    model.fit(partial_train_data, partial_train_targets, epochs=n_epochs, batch_size=1, verbose=0)\n",
    "    \n",
    "    # モデルを検証データで評価\n",
    "    val_mse, val_mae = model.evaluate(val_data, val_targets, verbose=0)\n",
    "    all_scores.append(val_mae)"
   ]
  },
  {
   "cell_type": "code",
   "execution_count": 7,
   "metadata": {},
   "outputs": [
    {
     "data": {
      "text/plain": [
       "[2.0956787838794217, 2.220593797098292, 2.859968412040484, 2.40535704039111]"
      ]
     },
     "execution_count": 7,
     "metadata": {},
     "output_type": "execute_result"
    }
   ],
   "source": [
    "# 検証スコア確認\n",
    "all_scores"
   ]
  },
  {
   "cell_type": "markdown",
   "metadata": {},
   "source": [
    "　上記出力データより、検証スコアは2.1～2.9くらいの間で変化していることが分かる。この場合、誤差の平均は2.5程度である。値は1,000ドル単位であるから、2,500ドルの誤差が生じていることになる。\n",
    "\n",
    "　住宅価格が10,000～50,000ドルであることを考えると、この誤差は非常に大きい。そのため、さらに500エポック訓練することにする。このモデルの性能をエポックごとに記録しておくために、訓練ループの各ステップで検証ログを保存する。"
   ]
  },
  {
   "cell_type": "code",
   "execution_count": 9,
   "metadata": {},
   "outputs": [
    {
     "name": "stdout",
     "output_type": "stream",
     "text": [
      "processing fold # 0\n",
      "processing fold # 1\n",
      "processing fold # 2\n",
      "processing fold # 3\n"
     ]
    }
   ],
   "source": [
    "n_epochs = 500\n",
    "all_mae_histories = []\n",
    "for i in range(k): # GeForce GTX 1070 で～20分程度\n",
    "    print(\"processing fold #\", i)\n",
    "    \n",
    "    # 検証データ準備\n",
    "    val_data = x_train[i * n_val_samples : (i+1) * n_val_samples]\n",
    "    val_targets = train_targets[i * n_val_samples : (i+1) * n_val_samples]\n",
    "    \n",
    "    # 訓練データ準備：残りのフィールドのデータ\n",
    "    partial_train_data = np.concatenate([x_train[: i * n_val_samples], x_train[(i+1) * n_val_samples :]], axis=0)\n",
    "    partial_train_targets = np.concatenate([train_targets[: i * n_val_samples], train_targets[(i+1) * n_val_samples :]], axis=0)\n",
    "    \n",
    "    # モデル構築\n",
    "    model = build_model()\n",
    "    \n",
    "    # モデルをサイレントモードで訓練\n",
    "    history = model.fit(\n",
    "        partial_train_data, partial_train_targets,\n",
    "        validation_data=(val_data, val_targets),\n",
    "        epochs=n_epochs, batch_size=1, verbose=0\n",
    "    )\n",
    "    \n",
    "    # 検証ログを保存\n",
    "    mae_history = history.history['val_mean_absolute_error']\n",
    "    all_mae_histories.append(mae_history)"
   ]
  },
  {
   "cell_type": "code",
   "execution_count": 11,
   "metadata": {},
   "outputs": [
    {
     "data": {
      "image/png": "[encoded data removed]",
      "text/plain": [
       "<Figure size 432x288 with 1 Axes>"
      ]
     },
     "metadata": {},
     "output_type": "display_data"
    }
   ],
   "source": [
    "# 検証スコアのプロット\n",
    "import matplotlib.pyplot as plt\n",
    "%matplotlib inline\n",
    "\n",
    "avg_mae_history = [np.mean([x[i] for x in all_mae_histories]) for i in range(n_epochs)]\n",
    "plt.plot(range(1, len(avg_mae_history) + 1), avg_mae_history)\n",
    "plt.xlabel(\"Epochs\")\n",
    "plt.ylabel(\"Validation MAE\")\n",
    "plt.show()"
   ]
  },
  {
   "cell_type": "code",
   "execution_count": 15,
   "metadata": {},
   "outputs": [
    {
     "data": {
      "image/png": "[encoded data removed]",
      "text/plain": [
       "<Figure size 432x288 with 1 Axes>"
      ]
     },
     "metadata": {},
     "output_type": "display_data"
    }
   ],
   "source": [
    "''' 最初の10個のスケーリングが違いすぎるので除外して再度プロット '''\n",
    "def smooth_curve(points, factor=0.9):\n",
    "    smoothed_points = []\n",
    "    for point in points:\n",
    "        if smoothed_points:\n",
    "            previous = smoothed_points[-1]\n",
    "            smoothed_points.append(previous * factor + point * (1-factor))\n",
    "        else:\n",
    "            smoothed_points.append(point)\n",
    "    return smoothed_points\n",
    "\n",
    "smooth_mae_history = smooth_curve(avg_mae_history[10:])\n",
    "plt.plot(range(1, len(smooth_mae_history) + 1), smooth_mae_history)\n",
    "plt.xlabel(\"Epochs\")\n",
    "plt.ylabel(\"Validation MAE\")\n",
    "plt.show()"
   ]
  },
  {
   "cell_type": "markdown",
   "metadata": {},
   "source": [
    "　上記プロットから、検証スコア（MAE）が80エポック後に大きく改善されていることが分かる。そのポイントを過ぎた後は過学習に陥っている。\n",
    "\n",
    "　以上の検証から、この問題の訓練には80エポックが最適であることが分かる。"
   ]
  },
  {
   "cell_type": "code",
   "execution_count": 17,
   "metadata": {},
   "outputs": [
    {
     "name": "stdout",
     "output_type": "stream",
     "text": [
      "102/102 [==============================] - 0s 649us/step\n"
     ]
    },
    {
     "data": {
      "text/plain": [
       "3.1331147212608186"
      ]
     },
     "execution_count": 17,
     "metadata": {},
     "output_type": "execute_result"
    }
   ],
   "source": [
    "''' 最終的なモデルの訓練 '''\n",
    "model = build_model()\n",
    "# データ全体を使って訓練\n",
    "model.fit(x_train, train_targets, epochs=80, batch_size=16, verbose=0)\n",
    "# テストデータでの検証スコアを取得\n",
    "test_mse_score, test_mae_score = model.evaluate(x_test, test_targets)\n",
    "test_mae_score"
   ]
  },
  {
   "cell_type": "markdown",
   "metadata": {},
   "source": [
    "　最終的には、3,133ドルもの誤差が生じている。結局この問題の解決のためには、アルゴリズムを根本的に変えるか、訓練データの数を増やすしかないと思われる。"
   ]
  },
  {
   "cell_type": "code",
   "execution_count": null,
   "metadata": {},
   "outputs": [],
   "source": []
  }
 ],
 "metadata": {
  "kernelspec": {
   "display_name": "Python 3",
   "language": "python",
   "name": "python3"
  },
  "language_info": {
   "codemirror_mode": {
    "name": "ipython",
    "version": 3
   },
   "file_extension": ".py",
   "mimetype": "text/x-python",
   "name": "python",
   "nbconvert_exporter": "python",
   "pygments_lexer": "ipython3",
   "version": "3.6.5"
  }
 },
 "nbformat": 4,
 "nbformat_minor": 2
}
