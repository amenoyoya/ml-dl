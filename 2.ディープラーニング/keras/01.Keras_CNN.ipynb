{
 "cells": [
  {
   "cell_type": "markdown",
   "metadata": {},
   "source": [
    "# Kerasを使った畳み込みネットワーク(CNN)学習\n",
    "\n",
    "## MNISTデータセットとは？\n",
    "MNISTとは、0から9までの70,000個の手書き数字の画像から構成された、画像分類問題において非常に人気の高いデータセット。\n",
    "\n",
    "MNISTデータセットにおける0～9の手書きの数字には正解ラベルがついており、コンピュータービジョンを使って、画像データからこの正解ラベルを導き出すことを目的とする。\n",
    "\n",
    "MNISTは、機械学習の「Hello World」と呼ばれるくらい入門で使われるデータセットであり、最新のアルゴリズムや技術などを評価するためのベンチマークとしても利用されている。\n",
    "\n",
    "## ニューラルネットと畳み込みニューラルネットワーク\n",
    "ニューラルネットワークとは、一番単純な説明としては「人間の脳の構造を模したコンピューターシステム」である。\n",
    "\n",
    "一言でニューラルネットーワークと言っても、処理をする目的などに応じて様々な種類が存在する。\n",
    "CNN（畳み込みニューラルネットワーク）はその一つに属するニューラルネットワークとなる。\n",
    "\n",
    "CNNは特に「生物の脳の視覚野の構造を模倣したコンピューターシステム」であり、画像認識及び分類において極めて良好に機能するニューラルネットワークとなる。\n",
    "\n",
    "## Kerasとは？\n",
    "KerasはPythonで描かれたディープラーニングラリブラリで、TensorFlowやTheanoの上で実行可能な高水準のニューラルネットワークAPI。\n",
    "\n",
    "非常に簡単かつ高速にニューラルネットワークを構築することが可能で、GoogleやMicrosoftなどの大手でも利用されているライブラリである。\n",
    "\n",
    "また機械学習系のライブラリでは非常に稀なことに、日本語で公式ドキュメントが用意されている。"
   ]
  },
  {
   "cell_type": "code",
   "execution_count": 10,
   "metadata": {},
   "outputs": [],
   "source": [
    "# Kerasの必要なコンポーネントをインポート\n",
    "from keras.models import Sequential\n",
    "from keras.layers import Dense, Dropout, Flatten, Conv2D, MaxPooling2D\n",
    "from keras.utils import np_utils\n",
    "\n",
    "# Scikit-learn(Sklearn)のインポート\n",
    "import sklearn\n",
    "\n",
    "# データを高速かつ効率的に使えるPandasをインポート\n",
    "import pandas as pd\n",
    "# 数値計算を効率的に行うNumpyをインポート\n",
    "import numpy as np\n",
    "\n",
    "# グラフが簡単に描写できるMatplotlibをインポート\n",
    "import matplotlib\n",
    "import matplotlib.pyplot as plt"
   ]
  },
  {
   "cell_type": "code",
   "execution_count": 11,
   "metadata": {},
   "outputs": [],
   "source": [
    "# Scikit-learnでMNISTオリジナルデータを読み込み\n",
    "mnist = sklearn.datasets.fetch_mldata('MNIST original', data_home='.') # カレントディレクトリにmldataフォルダを作り .matデータをダウンロード"
   ]
  },
  {
   "cell_type": "code",
   "execution_count": 12,
   "metadata": {},
   "outputs": [
    {
     "name": "stdout",
     "output_type": "stream",
     "text": [
      "(70000, 784) (70000,)\n"
     ]
    }
   ],
   "source": [
    "# データセットを説明変数（特徴量）と目的変数（解答）に切り分ける\n",
    "X, y = mnist['data'], mnist['target']\n",
    "\n",
    "print(X.shape, y.shape)"
   ]
  },
  {
   "cell_type": "markdown",
   "metadata": {},
   "source": [
    "### 特徴量のデータと正解ラベルの確認\n",
    "\n",
    "mnistのデータにおける特徴量は784個の数値データで構成されているが、これを28×28のマトリックスに変換することで手書きの数字になっていることが確認できる。また、それに関連付けられている正解ラベルが、手書きの数字と同一であるか、以下のテストで確認する。\n",
    "\n",
    "以下のテストコードは、適当に選んだ53238番目のデータを使って、手書きの数字データと正解ラベルを確認している。"
   ]
  },
  {
   "cell_type": "code",
   "execution_count": 13,
   "metadata": {},
   "outputs": [
    {
     "data": {
      "image/png": "[encoded data removed]",
      "text/plain": [
       "<Figure size 432x288 with 1 Axes>"
      ]
     },
     "metadata": {},
     "output_type": "display_data"
    },
    {
     "name": "stdout",
     "output_type": "stream",
     "text": [
      "8.0\n"
     ]
    }
   ],
   "source": [
    "# Xの53238番目のデータをtest_numberへ切り出す\n",
    "test_number = X[53238]\n",
    " \n",
    "# reshape関数を使って784の数列を28x28の画像データへ変換する\n",
    "test_number_image = test_number.reshape(28,28)\n",
    "\n",
    "# imshowを使って表示test_number_image（Numpy配列）を画像で表示\n",
    "%matplotlib inline \n",
    " \n",
    "plt.imshow(test_number_image, cmap = matplotlib.cm.binary,\n",
    "           interpolation='nearest')\n",
    "plt.show()\n",
    "\n",
    "# 正解ラベルの確認\n",
    "# 53238番目のYの値を出力\n",
    "print(y[53238])"
   ]
  },
  {
   "cell_type": "markdown",
   "metadata": {},
   "source": [
    "### ニューラルネットワークのためのデータ前処理\n",
    "\n",
    "次のステップでは、Kerasへインプットさせるデータの事前処理を行う。機械学習ではこのデータの事前処理が非常に重要となるが、今回は特に難しいことは行わず、必要最低限の前処理を行う。\n",
    "\n",
    "まずは訓練データとテストデータへ切り分けを行う。訓練データはCNNへ訓練をさせる（学ばさせる）データである。訓練データを使って構築したモデルに、今度は訓練で全く使ったことのない（モデルに学習をさせていない）テストデータを使って構築したモデルの良し悪しを判断することになる。\n",
    "\n",
    "mnistには70000個の画像データがあるため、訓練データとして60000個、テストデータとして10000個に切り分けることにした。"
   ]
  },
  {
   "cell_type": "code",
   "execution_count": 25,
   "metadata": {},
   "outputs": [
    {
     "name": "stdout",
     "output_type": "stream",
     "text": [
      "(60000, 784) (10000, 784)\n"
     ]
    }
   ],
   "source": [
    "# 訓練データとテストデータを切り分ける\n",
    "X_train, X_test, y_train, y_test = X[:60000], X[60000:], y[:60000], y[60000:]\n",
    "y_test_backup = y_test\n",
    " \n",
    "# 両方のサイズを確認\n",
    "print(X_train.shape, X_test.shape)"
   ]
  },
  {
   "cell_type": "code",
   "execution_count": 31,
   "metadata": {},
   "outputs": [],
   "source": [
    "# 特徴量を28x28x1のサイズへリシェイプし、Kerasで扱えるようにfloat32型に変換\n",
    "X_train_norm = X_train.reshape(X_train_norm.shape[0], 28, 28, 1).astype('float32')\n",
    "X_test_norm = X_test.reshape(X_test_norm.shape[0], 28, 28, 1).astype('float32')\n",
    "\n",
    "# 正規化\n",
    "## アルゴリズムの計算処理をスムーズに行うため、数値を0～1の値になるように変換\n",
    "### なお、今回の場合は最小値が0で最大値が255であることがわかっているので、単純に255で割っているが、\n",
    "### 最大値、最小値がわからない場合は、sklearn.preprocessing.MinMaxScalerを使うと良い\n",
    "X_train_norm /= 255\n",
    "X_test_norm /= 255"
   ]
  },
  {
   "cell_type": "code",
   "execution_count": 32,
   "metadata": {},
   "outputs": [
    {
     "data": {
      "text/plain": [
       "array([1., 0., 0., 0., 0., 0., 0., 0., 0., 0.], dtype=float32)"
      ]
     },
     "execution_count": 32,
     "metadata": {},
     "output_type": "execute_result"
    }
   ],
   "source": [
    "# 目的変数をバイナリクラスに変換\n",
    "## この処理は、yの値を10個の数値の配列に変換し、必要な箇所の数値を「1」、それ以外は全て「0」というデータに変換する\n",
    "### 例) y = 0 = [1,0,0,0,0,0,0,0,0,0], y = 5 = [0,0,0,0,0,1,0,0,0,0]\n",
    "y_train_bin = np_utils.to_categorical(y_train, 10)\n",
    "y_test_bin = np_utils.to_categorical(y_test, 10)\n",
    " \n",
    "# y_test_binの1を表示\n",
    "y_test_bin[1]"
   ]
  },
  {
   "cell_type": "code",
   "execution_count": 33,
   "metadata": {},
   "outputs": [
    {
     "name": "stdout",
     "output_type": "stream",
     "text": [
      "Epoch 1/10\n",
      "60000/60000 [==============================] - 6s 103us/step - loss: 0.5306 - acc: 0.8502\n",
      "Epoch 2/10\n",
      "60000/60000 [==============================] - 6s 98us/step - loss: 0.2503 - acc: 0.9259: 1s - los\n",
      "Epoch 3/10\n",
      "60000/60000 [==============================] - 6s 99us/step - loss: 0.1921 - acc: 0.9431: 0s - loss: 0.1951\n",
      "Epoch 4/10\n",
      "60000/60000 [==============================] - 6s 98us/step - loss: 0.1531 - acc: 0.9543\n",
      "Epoch 5/10\n",
      "60000/60000 [==============================] - 6s 97us/step - loss: 0.1300 - acc: 0.9617\n",
      "Epoch 6/10\n",
      "60000/60000 [==============================] - 6s 97us/step - loss: 0.1099 - acc: 0.9675\n",
      "Epoch 7/10\n",
      "60000/60000 [==============================] - 6s 98us/step - loss: 0.0981 - acc: 0.9715\n",
      "Epoch 8/10\n",
      "60000/60000 [==============================] - 6s 96us/step - loss: 0.0871 - acc: 0.9741: 1s - loss\n",
      "Epoch 9/10\n",
      "60000/60000 [==============================] - 6s 96us/step - loss: 0.0774 - acc: 0.9769\n",
      "Epoch 10/10\n",
      "60000/60000 [==============================] - 6s 97us/step - loss: 0.0729 - acc: 0.9786: \n"
     ]
    },
    {
     "data": {
      "text/plain": [
       "<keras.callbacks.History at 0x2130d1610b8>"
      ]
     },
     "execution_count": 33,
     "metadata": {},
     "output_type": "execute_result"
    }
   ],
   "source": [
    "# モデルの宣言\n",
    "model = Sequential()\n",
    "\n",
    "# ニューラルネットワークの層の構築\n",
    "## modelへレイヤーを追加\n",
    "model.add(Conv2D(32, kernel_size=(3, 3),\n",
    "                 activation='relu',\n",
    "                 input_shape=(28,28,1)))\n",
    "model.add(MaxPooling2D(pool_size=(2, 2)))\n",
    "model.add(Dropout(0.25))\n",
    "model.add(Flatten())\n",
    "model.add(Dense(128, activation='relu'))\n",
    "model.add(Dense(10, activation='softmax'))\n",
    "\n",
    "# 学習プロセスの設定\n",
    "model.compile(loss='categorical_crossentropy',\n",
    "              optimizer='sgd',\n",
    "              metrics=['accuracy'])\n",
    "\n",
    "# モデルの訓練（エポック(学習の回数) = 10）\n",
    "## ！このプロセスには10～15分かかる\n",
    "## ！GeForce GTX1070のGPUを使用した場合、1～2分\n",
    "model.fit(X_train_norm, y_train_bin, epochs=10)"
   ]
  },
  {
   "cell_type": "code",
   "execution_count": 37,
   "metadata": {},
   "outputs": [
    {
     "data": {
      "text/html": [
       "<div>\n",
       "<style scoped>\n",
       "    .dataframe tbody tr th:only-of-type {\n",
       "        vertical-align: middle;\n",
       "    }\n",
       "\n",
       "    .dataframe tbody tr th {\n",
       "        vertical-align: top;\n",
       "    }\n",
       "\n",
       "    .dataframe thead th {\n",
       "        text-align: right;\n",
       "    }\n",
       "</style>\n",
       "<table border=\"1\" class=\"dataframe\">\n",
       "  <thead>\n",
       "    <tr style=\"text-align: right;\">\n",
       "      <th></th>\n",
       "      <th>Actual</th>\n",
       "      <th>Predictions</th>\n",
       "    </tr>\n",
       "  </thead>\n",
       "  <tbody>\n",
       "    <tr>\n",
       "      <th>0</th>\n",
       "      <td>0.0</td>\n",
       "      <td>0</td>\n",
       "    </tr>\n",
       "    <tr>\n",
       "      <th>1</th>\n",
       "      <td>0.0</td>\n",
       "      <td>0</td>\n",
       "    </tr>\n",
       "    <tr>\n",
       "      <th>2</th>\n",
       "      <td>0.0</td>\n",
       "      <td>0</td>\n",
       "    </tr>\n",
       "    <tr>\n",
       "      <th>3</th>\n",
       "      <td>0.0</td>\n",
       "      <td>0</td>\n",
       "    </tr>\n",
       "    <tr>\n",
       "      <th>4</th>\n",
       "      <td>0.0</td>\n",
       "      <td>0</td>\n",
       "    </tr>\n",
       "    <tr>\n",
       "      <th>5</th>\n",
       "      <td>0.0</td>\n",
       "      <td>0</td>\n",
       "    </tr>\n",
       "    <tr>\n",
       "      <th>6</th>\n",
       "      <td>0.0</td>\n",
       "      <td>0</td>\n",
       "    </tr>\n",
       "    <tr>\n",
       "      <th>7</th>\n",
       "      <td>0.0</td>\n",
       "      <td>0</td>\n",
       "    </tr>\n",
       "    <tr>\n",
       "      <th>8</th>\n",
       "      <td>0.0</td>\n",
       "      <td>0</td>\n",
       "    </tr>\n",
       "    <tr>\n",
       "      <th>9</th>\n",
       "      <td>0.0</td>\n",
       "      <td>0</td>\n",
       "    </tr>\n",
       "  </tbody>\n",
       "</table>\n",
       "</div>"
      ],
      "text/plain": [
       "   Actual  Predictions\n",
       "0     0.0            0\n",
       "1     0.0            0\n",
       "2     0.0            0\n",
       "3     0.0            0\n",
       "4     0.0            0\n",
       "5     0.0            0\n",
       "6     0.0            0\n",
       "7     0.0            0\n",
       "8     0.0            0\n",
       "9     0.0            0"
      ]
     },
     "execution_count": 37,
     "metadata": {},
     "output_type": "execute_result"
    }
   ],
   "source": [
    "# X_testを使って予測を行う\n",
    "pred = model.predict_classes(X_test_norm)\n",
    "x = list(pred)\n",
    "y = list(y_test)\n",
    "results = pd.DataFrame({'Actual': y, 'Predictions': x})\n",
    "results.to_csv(\"01.Keras_CNN.csv\", index=False) # csvに保存しておく\n",
    "results[0:10]"
   ]
  },
  {
   "cell_type": "code",
   "execution_count": 42,
   "metadata": {},
   "outputs": [],
   "source": [
    "import json\n",
    "\n",
    "# 学習したModelとParameterを保存しておく\n",
    "with open(\"01.Keras_CNN.Model.json\", 'w') as f:\n",
    "    f.write(json.dumps(json.loads(model.to_json()), ensure_ascii=False, indent=2))\n",
    "\n",
    "model.save_weights(\"01.Keras_CNN.Weights.hdf5\")"
   ]
  },
  {
   "cell_type": "code",
   "execution_count": null,
   "metadata": {},
   "outputs": [],
   "source": []
  }
 ],
 "metadata": {
  "kernelspec": {
   "display_name": "Python 3",
   "language": "python",
   "name": "python3"
  },
  "language_info": {
   "codemirror_mode": {
    "name": "ipython",
    "version": 3
   },
   "file_extension": ".py",
   "mimetype": "text/x-python",
   "name": "python",
   "nbconvert_exporter": "python",
   "pygments_lexer": "ipython3",
   "version": "3.6.5"
  }
 },
 "nbformat": 4,
 "nbformat_minor": 2
}
