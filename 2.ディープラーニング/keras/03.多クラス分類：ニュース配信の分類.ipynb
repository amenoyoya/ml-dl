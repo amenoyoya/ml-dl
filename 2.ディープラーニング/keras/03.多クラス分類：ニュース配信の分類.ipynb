{
 "cells": [
  {
   "cell_type": "markdown",
   "metadata": {},
   "source": [
    "# 多クラス分類：ニュース配信の分類\n",
    "\n",
    "　Reutersのニュース配信を46種類の相互排他なトピック（クラス）に分類するネットワークを構築する。\n",
    "クラス数が多いため、この問題は多クラス分類である。\n",
    " \n",
    " 今回の場合、各データ点は1つのカテゴリ（トピック）にのみ分類されるため、多クラス**単一ラベル分類問題**である。\n",
    "各データ点が複数のカテゴリに分類される可能性がある場合は、**多クラス多ラベル分類問題**となる。\n",
    "  \n",
    "**単一ラベル分類問題**  \n",
    "データ①　→　カテゴリ①  \n",
    "データ②　→　カテゴリ①  \n",
    "データ③　→　カテゴリ②  \n",
    "\n",
    "**多クラス多ラベル分類問題**  \n",
    "データ①　→　カテゴリ①、カテゴリ②  \n",
    "データ②　→　カテゴリ①、カテゴリ③  \n",
    "データ③　→　カテゴリ②、カテゴリ③、カテゴリ④  "
   ]
  },
  {
   "cell_type": "code",
   "execution_count": 4,
   "metadata": {},
   "outputs": [],
   "source": [
    "from keras.datasets import reuters\n",
    "# Reutersデータセット読み込み\n",
    "# データを出現頻度の高い10,000単語に限定してロード\n",
    "(train_data, train_labels), (test_data, test_labels) = reuters.load_data(num_words=10000)"
   ]
  },
  {
   "cell_type": "code",
   "execution_count": 5,
   "metadata": {},
   "outputs": [
    {
     "data": {
      "text/plain": [
       "'? ? ? said as a result of its december acquisition of space co it expects earnings per share in 1987 of 1 15 to 1 30 dlrs per share up from 70 cts in 1986 the company said pretax net should rise to nine to 10 mln dlrs from six mln dlrs in 1986 and rental operation revenues to 19 to 22 mln dlrs from 12 5 mln dlrs it said cash flow per share this year should be 2 50 to three dlrs reuter 3'"
      ]
     },
     "execution_count": 5,
     "metadata": {},
     "output_type": "execute_result"
    }
   ],
   "source": [
    "# ニュースデータをテキストに変換（テスト）\n",
    "word_index = reuters.get_word_index()\n",
    "reverse_word_index = dict([(v, k) for (k, v) in word_index.items()])\n",
    "def decode_news(data):\n",
    "    return ' '.join([reverse_word_index.get(i-3, '?') for i in data])\n",
    "decode_news(train_data[0])"
   ]
  },
  {
   "cell_type": "code",
   "execution_count": 6,
   "metadata": {},
   "outputs": [
    {
     "data": {
      "text/plain": [
       "array([ 3,  4,  3, ..., 25,  3, 25], dtype=int64)"
      ]
     },
     "execution_count": 6,
     "metadata": {},
     "output_type": "execute_result"
    }
   ],
   "source": [
    "# サンプルに関連付けられているラベルは、0～45の46カテゴリ\n",
    "train_labels"
   ]
  },
  {
   "cell_type": "code",
   "execution_count": 8,
   "metadata": {},
   "outputs": [
    {
     "name": "stdout",
     "output_type": "stream",
     "text": [
      "[[0. 1. 1. ... 0. 0. 0.]\n",
      " [0. 1. 1. ... 0. 0. 0.]\n",
      " [0. 1. 1. ... 0. 0. 0.]\n",
      " ...\n",
      " [0. 1. 1. ... 0. 0. 0.]\n",
      " [0. 1. 1. ... 0. 0. 0.]\n",
      " [0. 1. 1. ... 0. 0. 0.]]\n"
     ]
    }
   ],
   "source": [
    "import numpy as np\n",
    "# データのベクトル化\n",
    "# one-hotエンコーディングを使用\n",
    "def to_one_hot(data, dim):\n",
    "    res = np.zeros((len(data), dim))\n",
    "    for i, d in enumerate(data): res[i, d] = 1\n",
    "    return res\n",
    "\n",
    "x_train = to_one_hot(train_data, 10000)\n",
    "x_test = to_one_hot(test_data, 10000)\n",
    "\n",
    "print(x_train)"
   ]
  },
  {
   "cell_type": "code",
   "execution_count": 9,
   "metadata": {},
   "outputs": [
    {
     "name": "stdout",
     "output_type": "stream",
     "text": [
      "3 -> [0. 0. 0. 1. 0. 0. 0. 0. 0. 0. 0. 0. 0. 0. 0. 0. 0. 0. 0. 0. 0. 0. 0. 0.\n",
      " 0. 0. 0. 0. 0. 0. 0. 0. 0. 0. 0. 0. 0. 0. 0. 0. 0. 0. 0. 0. 0. 0.]\n"
     ]
    }
   ],
   "source": [
    "# ラベルもエンコーディング\n",
    "y_train = to_one_hot(train_labels, 46)\n",
    "y_test = to_one_hot(test_labels, 46)\n",
    "\n",
    "print(train_labels[0], '->', y_train[0])"
   ]
  },
  {
   "cell_type": "code",
   "execution_count": 10,
   "metadata": {},
   "outputs": [
    {
     "name": "stdout",
     "output_type": "stream",
     "text": [
      "3 -> [0. 0. 0. 1. 0. 0. 0. 0. 0. 0. 0. 0. 0. 0. 0. 0. 0. 0. 0. 0. 0. 0. 0. 0.\n",
      " 0. 0. 0. 0. 0. 0. 0. 0. 0. 0. 0. 0. 0. 0. 0. 0. 0. 0. 0. 0. 0. 0.]\n"
     ]
    }
   ],
   "source": [
    "# 参考：one-hotエンコーディングはkerasのto_categoricalでも可能\n",
    "from keras.utils.np_utils import to_categorical\n",
    "\n",
    "y_train2 = to_categorical(train_labels)\n",
    "print(train_labels[0], '->', y_train2[0])"
   ]
  },
  {
   "cell_type": "markdown",
   "metadata": {},
   "source": [
    "## ニューラルネットワークの構築\n",
    "\n",
    "　多クラス分類問題では、出力クラスの数が多いため、出力空間の次元数が二値分類問題よりはるかに大きくなる。\n",
    "\n",
    "　二値分類問題で使ったDense層のスタックでは、各層がアクセスできる情報は、1つ前の層の出力に含まれているものだけである。\n",
    "したがって、分類問題に関連する情報が途中の層で抜け落ちてしまった場合、その情報をその後の層で復元することは不可能となる。\n",
    "その意味では、どの層も情報のボトルネックとなり得る。\n",
    "\n",
    "　こういった場合、中間層の隠れユニットの数を大きくすることで上手く学習できる場合がある。そのため今回は、64ユニットの中間層を採用してみる。"
   ]
  },
  {
   "cell_type": "code",
   "execution_count": 11,
   "metadata": {},
   "outputs": [],
   "source": [
    "from keras import models\n",
    "from keras import layers\n",
    "\n",
    "model = models.Sequential()\n",
    "model.add(layers.Dense(64, activation='relu', input_shape=(10000,)))\n",
    "model.add(layers.Dense(64, activation='relu'))\n",
    "# 出力層では、46個ラベルのどれに分類されるかの確率が出力される\n",
    "# -> 確率値の合計が1になるように、46次元の出力ベクトルを生成\n",
    "# -> 活性化関数にsoftmaxを持つ、46ユニットのDense層を採用\n",
    "model.add(layers.Dense(46, activation='softmax'))"
   ]
  },
  {
   "cell_type": "code",
   "execution_count": 12,
   "metadata": {},
   "outputs": [],
   "source": [
    "# モデルのコンパイル\n",
    "# 多クラス分類問題のため、損失関数にcategorical_crossentropyを採用\n",
    "model.compile(optimizer='rmsprop', loss='categorical_crossentropy', metrics=['acc'])"
   ]
  },
  {
   "cell_type": "code",
   "execution_count": 13,
   "metadata": {},
   "outputs": [],
   "source": [
    "# 検証データセット用意\n",
    "x_val, partial_x_train = x_train[:1000], x_train[1000:]\n",
    "y_val, partial_y_train = y_train[:1000], y_train[1000:]"
   ]
  },
  {
   "cell_type": "code",
   "execution_count": 14,
   "metadata": {},
   "outputs": [
    {
     "name": "stdout",
     "output_type": "stream",
     "text": [
      "Train on 7982 samples, validate on 1000 samples\n",
      "Epoch 1/20\n",
      "7982/7982 [==============================] - 4s 446us/step - loss: 2.5322 - acc: 0.4955 - val_loss: 1.7208 - val_acc: 0.6120\n",
      "Epoch 2/20\n",
      "7982/7982 [==============================] - 0s 62us/step - loss: 1.4452 - acc: 0.6879 - val_loss: 1.3459 - val_acc: 0.7060\n",
      "Epoch 3/20\n",
      "7982/7982 [==============================] - 1s 63us/step - loss: 1.0953 - acc: 0.7651 - val_loss: 1.1708 - val_acc: 0.7430\n",
      "Epoch 4/20\n",
      "7982/7982 [==============================] - 1s 63us/step - loss: 0.8697 - acc: 0.8165 - val_loss: 1.0793 - val_acc: 0.7590\n",
      "Epoch 5/20\n",
      "7982/7982 [==============================] - 1s 64us/step - loss: 0.7034 - acc: 0.8472 - val_loss: 0.9844 - val_acc: 0.7810\n",
      "Epoch 6/20\n",
      "7982/7982 [==============================] - 1s 63us/step - loss: 0.5667 - acc: 0.8802 - val_loss: 0.9411 - val_acc: 0.8040\n",
      "Epoch 7/20\n",
      "7982/7982 [==============================] - 1s 63us/step - loss: 0.4581 - acc: 0.9048 - val_loss: 0.9083 - val_acc: 0.8020\n",
      "Epoch 8/20\n",
      "7982/7982 [==============================] - 1s 64us/step - loss: 0.3695 - acc: 0.9231 - val_loss: 0.9363 - val_acc: 0.7890\n",
      "Epoch 9/20\n",
      "7982/7982 [==============================] - 0s 62us/step - loss: 0.3032 - acc: 0.9315 - val_loss: 0.8917 - val_acc: 0.8090\n",
      "Epoch 10/20\n",
      "7982/7982 [==============================] - 1s 64us/step - loss: 0.2537 - acc: 0.9414 - val_loss: 0.9071 - val_acc: 0.8110\n",
      "Epoch 11/20\n",
      "7982/7982 [==============================] - 1s 66us/step - loss: 0.2187 - acc: 0.9471 - val_loss: 0.9177 - val_acc: 0.8130\n",
      "Epoch 12/20\n",
      "7982/7982 [==============================] - 1s 64us/step - loss: 0.1873 - acc: 0.9508 - val_loss: 0.9027 - val_acc: 0.8130\n",
      "Epoch 13/20\n",
      "7982/7982 [==============================] - 1s 64us/step - loss: 0.1703 - acc: 0.9521 - val_loss: 0.9323 - val_acc: 0.8110\n",
      "Epoch 14/20\n",
      "7982/7982 [==============================] - 1s 66us/step - loss: 0.1536 - acc: 0.9554 - val_loss: 0.9689 - val_acc: 0.8050\n",
      "Epoch 15/20\n",
      "7982/7982 [==============================] - 1s 63us/step - loss: 0.1390 - acc: 0.9560 - val_loss: 0.9686 - val_acc: 0.8150\n",
      "Epoch 16/20\n",
      "7982/7982 [==============================] - 1s 65us/step - loss: 0.1313 - acc: 0.9560 - val_loss: 1.0220 - val_acc: 0.8060\n",
      "Epoch 17/20\n",
      "7982/7982 [==============================] - 1s 64us/step - loss: 0.1217 - acc: 0.9579 - val_loss: 1.0254 - val_acc: 0.7970\n",
      "Epoch 18/20\n",
      "7982/7982 [==============================] - 1s 65us/step - loss: 0.1198 - acc: 0.9582 - val_loss: 1.0430 - val_acc: 0.8060\n",
      "Epoch 19/20\n",
      "7982/7982 [==============================] - 1s 64us/step - loss: 0.1138 - acc: 0.9597 - val_loss: 1.0955 - val_acc: 0.7970\n",
      "Epoch 20/20\n",
      "7982/7982 [==============================] - 1s 66us/step - loss: 0.1111 - acc: 0.9593 - val_loss: 1.0674 - val_acc: 0.8020\n"
     ]
    }
   ],
   "source": [
    "# モデルの訓練\n",
    "history = model.fit(partial_x_train, partial_y_train, epochs=20, batch_size=512, validation_data=(x_val, y_val))"
   ]
  },
  {
   "cell_type": "code",
   "execution_count": 15,
   "metadata": {},
   "outputs": [
    {
     "data": {
      "image/png": "[encoded data removed]",
      "text/plain": [
       "<Figure size 432x288 with 1 Axes>"
      ]
     },
     "metadata": {},
     "output_type": "display_data"
    }
   ],
   "source": [
    "# 訓練データと検証データの損失値をプロット\n",
    "import matplotlib.pyplot as plt\n",
    "%matplotlib inline\n",
    "\n",
    "loss = history.history['loss']\n",
    "val_loss = history.history['val_loss']\n",
    "epochs = range(1, len(loss)+1)\n",
    "\n",
    "plt.plot(epochs, loss, 'bo', label='Training loss')\n",
    "plt.plot(epochs, val_loss, 'b', label='Validation loss')\n",
    "plt.title('Training and validation loss')\n",
    "plt.xlabel('Epochs')\n",
    "plt.ylabel('Loss')\n",
    "plt.legend()\n",
    "plt.show()"
   ]
  },
  {
   "cell_type": "code",
   "execution_count": 17,
   "metadata": {},
   "outputs": [
    {
     "data": {
      "image/png": "[encoded data removed]",
      "text/plain": [
       "<Figure size 432x288 with 1 Axes>"
      ]
     },
     "metadata": {},
     "output_type": "display_data"
    }
   ],
   "source": [
    "# 訓練データと検証データの正解率をプロット\n",
    "acc = history.history['acc']\n",
    "val_acc = history.history['val_acc']\n",
    "epochs = range(1, len(acc)+1)\n",
    "\n",
    "plt.plot(epochs, acc, 'ro', label='Training acc')\n",
    "plt.plot(epochs, val_acc, 'r', label='Validation acc')\n",
    "plt.title('Training and validation accuracy')\n",
    "plt.xlabel('Epochs')\n",
    "plt.ylabel('Accuracy')\n",
    "plt.legend()\n",
    "plt.show()"
   ]
  },
  {
   "cell_type": "markdown",
   "metadata": {},
   "source": [
    "　上図を見ると、8エポックの後、ネットワークは過学習に陥っている。"
   ]
  },
  {
   "cell_type": "code",
   "execution_count": 18,
   "metadata": {},
   "outputs": [
    {
     "name": "stdout",
     "output_type": "stream",
     "text": [
      "Train on 7982 samples, validate on 1000 samples\n",
      "Epoch 1/8\n",
      "7982/7982 [==============================] - 1s 72us/step - loss: 0.1055 - acc: 0.9575 - val_loss: 1.1033 - val_acc: 0.7990\n",
      "Epoch 2/8\n",
      "7982/7982 [==============================] - 1s 66us/step - loss: 0.1019 - acc: 0.9579 - val_loss: 1.1133 - val_acc: 0.8020\n",
      "Epoch 3/8\n",
      "7982/7982 [==============================] - 1s 65us/step - loss: 0.1028 - acc: 0.9592 - val_loss: 1.0965 - val_acc: 0.7960\n",
      "Epoch 4/8\n",
      "7982/7982 [==============================] - 1s 66us/step - loss: 0.1030 - acc: 0.9575 - val_loss: 1.1221 - val_acc: 0.7970\n",
      "Epoch 5/8\n",
      "7982/7982 [==============================] - 1s 65us/step - loss: 0.0970 - acc: 0.9590 - val_loss: 1.1496 - val_acc: 0.8020\n",
      "Epoch 6/8\n",
      "7982/7982 [==============================] - 1s 66us/step - loss: 0.0988 - acc: 0.9565 - val_loss: 1.2267 - val_acc: 0.7870\n",
      "Epoch 7/8\n",
      "7982/7982 [==============================] - 1s 66us/step - loss: 0.0960 - acc: 0.9575 - val_loss: 1.1766 - val_acc: 0.7990\n",
      "Epoch 8/8\n",
      "7982/7982 [==============================] - 1s 66us/step - loss: 0.0921 - acc: 0.9588 - val_loss: 1.2397 - val_acc: 0.7840\n",
      "2246/2246 [==============================] - 0s 91us/step\n",
      "[1.3847585836904768, 0.7649154052178135]\n"
     ]
    }
   ],
   "source": [
    "# 8エポックで訓練\n",
    "model.fit(partial_x_train, partial_y_train, epochs=8, batch_size=512, validation_data=(x_val, y_val))\n",
    "# 最終結果を表示\n",
    "print(model.evaluate(x_test, y_test))"
   ]
  },
  {
   "cell_type": "markdown",
   "metadata": {},
   "source": [
    "　今回の学習の結果、76％の精度を達成できた。"
   ]
  },
  {
   "cell_type": "code",
   "execution_count": 20,
   "metadata": {},
   "outputs": [],
   "source": [
    "# 訓練済みモデルで予測値を生成\n",
    "pred = model.predict(x_test)"
   ]
  },
  {
   "cell_type": "code",
   "execution_count": 21,
   "metadata": {},
   "outputs": [
    {
     "name": "stdout",
     "output_type": "stream",
     "text": [
      "(46,) 1.0000001\n"
     ]
    }
   ],
   "source": [
    "# 予測値は、46次元ベクトルであり、このベクトルの係数を合計すると1となる\n",
    "print(pred[0].shape, np.sum(pred[0]))"
   ]
  },
  {
   "cell_type": "code",
   "execution_count": 22,
   "metadata": {},
   "outputs": [
    {
     "data": {
      "text/plain": [
       "3"
      ]
     },
     "execution_count": 22,
     "metadata": {},
     "output_type": "execute_result"
    }
   ],
   "source": [
    "# 46次元ベクトルの中で最も大きな係数（＝最も高い確率）のインデックスが予測されたクラスとなる\n",
    "np.argmax(pred[0])"
   ]
  },
  {
   "cell_type": "code",
   "execution_count": 30,
   "metadata": {},
   "outputs": [
    {
     "name": "stdout",
     "output_type": "stream",
     "text": [
      "[ 3 10  1 ...  3  3  1] [ 3 10  1 ...  3  3 24]\n"
     ]
    }
   ],
   "source": [
    "y_pred = np.argmax(pred, axis=1) # 列方向に最大値を算出し、予測ラベルを1行に並べる\n",
    "print(y_pred, test_labels)"
   ]
  },
  {
   "cell_type": "code",
   "execution_count": 34,
   "metadata": {},
   "outputs": [
    {
     "name": "stdout",
     "output_type": "stream",
     "text": [
      "正解率： 76.49154051647373 %\n"
     ]
    }
   ],
   "source": [
    "# 正解率\n",
    "# 単純に正解と同一の予測値の数をカウントするだけ\n",
    "# model.evaluate(x_test, y_test) と同じくらいの正解率になるはず\n",
    "print('正解率：', len(y_pred[y_pred == test_labels]) / len(y_pred) * 100, '%')"
   ]
  },
  {
   "cell_type": "markdown",
   "metadata": {},
   "source": [
    "## ニューラルネットワークの検証\n",
    "\n",
    "　今回、中間層の隠れユニット数を64にしたが、これは最終的な出力が46次元であるため、隠れユニット数が46より小さい中間層は避けるべきだからである。\n",
    "例えば、4ユニットなど、46よりずっと少ない隠れユニット数の中間層を使用した場合、情報のボトルネックが発生し得る。これを以下のサンプルコードで検証する。"
   ]
  },
  {
   "cell_type": "code",
   "execution_count": 36,
   "metadata": {},
   "outputs": [
    {
     "name": "stdout",
     "output_type": "stream",
     "text": [
      "Train on 7982 samples, validate on 1000 samples\n",
      "Epoch 1/8\n",
      "7982/7982 [==============================] - 1s 103us/step - loss: 3.5769 - acc: 0.2087 - val_loss: 3.3598 - val_acc: 0.3870\n",
      "Epoch 2/8\n",
      "7982/7982 [==============================] - 1s 68us/step - loss: 3.1407 - acc: 0.4449 - val_loss: 3.0620 - val_acc: 0.4580\n",
      "Epoch 3/8\n",
      "7982/7982 [==============================] - 1s 68us/step - loss: 2.8429 - acc: 0.3681 - val_loss: 2.8636 - val_acc: 0.3270\n",
      "Epoch 4/8\n",
      "7982/7982 [==============================] - 1s 67us/step - loss: 2.6283 - acc: 0.3355 - val_loss: 2.7267 - val_acc: 0.3310\n",
      "Epoch 5/8\n",
      "7982/7982 [==============================] - 1s 70us/step - loss: 2.4637 - acc: 0.3458 - val_loss: 2.6362 - val_acc: 0.3340\n",
      "Epoch 6/8\n",
      "7982/7982 [==============================] - 1s 69us/step - loss: 2.3190 - acc: 0.3646 - val_loss: 2.5125 - val_acc: 0.3540\n",
      "Epoch 7/8\n",
      "7982/7982 [==============================] - 1s 68us/step - loss: 2.1667 - acc: 0.3969 - val_loss: 2.3854 - val_acc: 0.3740\n",
      "Epoch 8/8\n",
      "7982/7982 [==============================] - 1s 68us/step - loss: 1.9932 - acc: 0.4173 - val_loss: 2.2270 - val_acc: 0.3840\n",
      "2246/2246 [==============================] - 0s 96us/step\n",
      "[2.2658332693502508, 0.3512911843276937]\n"
     ]
    }
   ],
   "source": [
    "model = models.Sequential()\n",
    "model.add(layers.Dense(64, activation='relu', input_shape=(10000,)))\n",
    "model.add(layers.Dense(4, activation='relu'))\n",
    "model.add(layers.Dense(46, activation='softmax'))\n",
    "model.compile(optimizer='rmsprop', loss='categorical_crossentropy', metrics=['acc'])\n",
    "model.fit(partial_x_train, partial_y_train, epochs=8, batch_size=512, validation_data=(x_val, y_val))\n",
    "print(model.evaluate(x_test, y_test))"
   ]
  },
  {
   "cell_type": "markdown",
   "metadata": {},
   "source": [
    " 上のサンプルでも分かるように、情報のボトルネックが発生した（損失が起こった）場合、学習は上手くいかない。\n",
    "このネットワークでは、46クラスの分離超平面を復元するための情報を4次元表現空間に詰め込もうとしているために損失が起こっている。\n",
    "\n",
    "　次に、以下のような実習を行い、ネットワークの性能を検証する。\n",
    "\n",
    "- 隠れユニットを32ユニットに減らす\n",
    "- 隠れユニットを128ユニットに増やす\n",
    "- 隠れ層を1つに減らす\n",
    "- 隠れ層を3つに増やす"
   ]
  },
  {
   "cell_type": "code",
   "execution_count": 37,
   "metadata": {},
   "outputs": [
    {
     "name": "stdout",
     "output_type": "stream",
     "text": [
      "Train on 7982 samples, validate on 1000 samples\n",
      "Epoch 1/8\n",
      "7982/7982 [==============================] - 1s 102us/step - loss: 3.1362 - acc: 0.3879 - val_loss: 2.4698 - val_acc: 0.5690\n",
      "Epoch 2/8\n",
      "7982/7982 [==============================] - 1s 70us/step - loss: 2.0378 - acc: 0.6438 - val_loss: 1.7732 - val_acc: 0.6460\n",
      "Epoch 3/8\n",
      "7982/7982 [==============================] - 1s 69us/step - loss: 1.4868 - acc: 0.7041 - val_loss: 1.4398 - val_acc: 0.6990\n",
      "Epoch 4/8\n",
      "7982/7982 [==============================] - 1s 70us/step - loss: 1.1893 - acc: 0.7483 - val_loss: 1.2736 - val_acc: 0.7210\n",
      "Epoch 5/8\n",
      "7982/7982 [==============================] - 1s 68us/step - loss: 0.9984 - acc: 0.7886 - val_loss: 1.1678 - val_acc: 0.7560\n",
      "Epoch 6/8\n",
      "7982/7982 [==============================] - 1s 68us/step - loss: 0.8561 - acc: 0.8180 - val_loss: 1.0824 - val_acc: 0.7750\n",
      "Epoch 7/8\n",
      "7982/7982 [==============================] - 1s 69us/step - loss: 0.7377 - acc: 0.8420 - val_loss: 1.0306 - val_acc: 0.7890\n",
      "Epoch 8/8\n",
      "7982/7982 [==============================] - 1s 69us/step - loss: 0.6419 - acc: 0.8647 - val_loss: 0.9951 - val_acc: 0.7940\n",
      "2246/2246 [==============================] - 0s 93us/step\n",
      "[1.0732668760304778, 0.7644701691896705]\n"
     ]
    }
   ],
   "source": [
    "# 隠れユニットを32ユニットに減らす\n",
    "model = models.Sequential()\n",
    "model.add(layers.Dense(32, activation='relu', input_shape=(10000,)))\n",
    "model.add(layers.Dense(32, activation='relu'))\n",
    "model.add(layers.Dense(46, activation='softmax'))\n",
    "model.compile(optimizer='rmsprop', loss='categorical_crossentropy', metrics=['acc'])\n",
    "model.fit(partial_x_train, partial_y_train, epochs=8, batch_size=512, validation_data=(x_val, y_val))\n",
    "print(model.evaluate(x_test, y_test)) # -> 正解率76％"
   ]
  },
  {
   "cell_type": "code",
   "execution_count": 38,
   "metadata": {},
   "outputs": [
    {
     "name": "stdout",
     "output_type": "stream",
     "text": [
      "Train on 7982 samples, validate on 1000 samples\n",
      "Epoch 1/8\n",
      "7982/7982 [==============================] - 1s 101us/step - loss: 2.1960 - acc: 0.5574 - val_loss: 1.3849 - val_acc: 0.6800\n",
      "Epoch 2/8\n",
      "7982/7982 [==============================] - 1s 71us/step - loss: 1.1257 - acc: 0.7532 - val_loss: 1.1107 - val_acc: 0.7450\n",
      "Epoch 3/8\n",
      "7982/7982 [==============================] - 1s 70us/step - loss: 0.7833 - acc: 0.8311 - val_loss: 0.9682 - val_acc: 0.7860\n",
      "Epoch 4/8\n",
      "7982/7982 [==============================] - 1s 70us/step - loss: 0.5759 - acc: 0.8810 - val_loss: 0.9411 - val_acc: 0.8140\n",
      "Epoch 5/8\n",
      "7982/7982 [==============================] - 1s 71us/step - loss: 0.4113 - acc: 0.9133 - val_loss: 0.8923 - val_acc: 0.8120\n",
      "Epoch 6/8\n",
      "7982/7982 [==============================] - 1s 70us/step - loss: 0.3231 - acc: 0.9305 - val_loss: 0.8599 - val_acc: 0.8150\n",
      "Epoch 7/8\n",
      "7982/7982 [==============================] - 1s 71us/step - loss: 0.2474 - acc: 0.9440 - val_loss: 0.9353 - val_acc: 0.8110\n",
      "Epoch 8/8\n",
      "7982/7982 [==============================] - 1s 71us/step - loss: 0.2043 - acc: 0.9491 - val_loss: 0.9484 - val_acc: 0.8070\n",
      "2246/2246 [==============================] - 0s 90us/step\n",
      "[1.0452058372599464, 0.7769367765446168]\n"
     ]
    }
   ],
   "source": [
    "# 隠れユニットを128ユニットに増やす\n",
    "model = models.Sequential()\n",
    "model.add(layers.Dense(128, activation='relu', input_shape=(10000,)))\n",
    "model.add(layers.Dense(128, activation='relu'))\n",
    "model.add(layers.Dense(46, activation='softmax'))\n",
    "model.compile(optimizer='rmsprop', loss='categorical_crossentropy', metrics=['acc'])\n",
    "model.fit(partial_x_train, partial_y_train, epochs=8, batch_size=512, validation_data=(x_val, y_val))\n",
    "print(model.evaluate(x_test, y_test)) # -> 正解率77％"
   ]
  },
  {
   "cell_type": "code",
   "execution_count": 39,
   "metadata": {},
   "outputs": [
    {
     "name": "stdout",
     "output_type": "stream",
     "text": [
      "Train on 7982 samples, validate on 1000 samples\n",
      "Epoch 1/8\n",
      "7982/7982 [==============================] - 1s 94us/step - loss: 2.4586 - acc: 0.5540 - val_loss: 1.7369 - val_acc: 0.6550\n",
      "Epoch 2/8\n",
      "7982/7982 [==============================] - 1s 68us/step - loss: 1.4085 - acc: 0.7300 - val_loss: 1.3097 - val_acc: 0.7290\n",
      "Epoch 3/8\n",
      "7982/7982 [==============================] - 1s 68us/step - loss: 1.0383 - acc: 0.7937 - val_loss: 1.1117 - val_acc: 0.7710\n",
      "Epoch 4/8\n",
      "7982/7982 [==============================] - 1s 70us/step - loss: 0.8193 - acc: 0.8340 - val_loss: 1.0077 - val_acc: 0.7880\n",
      "Epoch 5/8\n",
      "7982/7982 [==============================] - 1s 71us/step - loss: 0.6617 - acc: 0.8668 - val_loss: 0.9340 - val_acc: 0.8060\n",
      "Epoch 6/8\n",
      "7982/7982 [==============================] - 1s 68us/step - loss: 0.5405 - acc: 0.8909 - val_loss: 0.8877 - val_acc: 0.8140\n",
      "Epoch 7/8\n",
      "7982/7982 [==============================] - 1s 70us/step - loss: 0.4473 - acc: 0.9103 - val_loss: 0.8495 - val_acc: 0.8220\n",
      "Epoch 8/8\n",
      "7982/7982 [==============================] - 1s 68us/step - loss: 0.3746 - acc: 0.9245 - val_loss: 0.8278 - val_acc: 0.8280\n",
      "2246/2246 [==============================] - 0s 88us/step\n",
      "[0.9040253565763642, 0.7965271594475554]\n"
     ]
    }
   ],
   "source": [
    "# 隠れ層を1つに減らす\n",
    "model = models.Sequential()\n",
    "model.add(layers.Dense(64, activation='relu', input_shape=(10000,)))\n",
    "model.add(layers.Dense(46, activation='softmax'))\n",
    "model.compile(optimizer='rmsprop', loss='categorical_crossentropy', metrics=['acc'])\n",
    "model.fit(partial_x_train, partial_y_train, epochs=8, batch_size=512, validation_data=(x_val, y_val))\n",
    "print(model.evaluate(x_test, y_test)) # -> 正解率79％"
   ]
  },
  {
   "cell_type": "code",
   "execution_count": 40,
   "metadata": {},
   "outputs": [
    {
     "name": "stdout",
     "output_type": "stream",
     "text": [
      "Train on 7982 samples, validate on 1000 samples\n",
      "Epoch 1/8\n",
      "7982/7982 [==============================] - 1s 101us/step - loss: 2.6778 - acc: 0.4491 - val_loss: 1.7213 - val_acc: 0.6360\n",
      "Epoch 2/8\n",
      "7982/7982 [==============================] - 1s 70us/step - loss: 1.4380 - acc: 0.6987 - val_loss: 1.3393 - val_acc: 0.7040\n",
      "Epoch 3/8\n",
      "7982/7982 [==============================] - 1s 69us/step - loss: 1.0765 - acc: 0.7687 - val_loss: 1.1914 - val_acc: 0.7370\n",
      "Epoch 4/8\n",
      "7982/7982 [==============================] - 1s 69us/step - loss: 0.8343 - acc: 0.8161 - val_loss: 1.0787 - val_acc: 0.7620\n",
      "Epoch 5/8\n",
      "7982/7982 [==============================] - 1s 70us/step - loss: 0.6721 - acc: 0.8540 - val_loss: 0.9987 - val_acc: 0.7940\n",
      "Epoch 6/8\n",
      "7982/7982 [==============================] - 1s 70us/step - loss: 0.5338 - acc: 0.8830 - val_loss: 0.9786 - val_acc: 0.7890\n",
      "Epoch 7/8\n",
      "7982/7982 [==============================] - 1s 69us/step - loss: 0.4154 - acc: 0.9132 - val_loss: 1.0010 - val_acc: 0.7920\n",
      "Epoch 8/8\n",
      "7982/7982 [==============================] - 1s 70us/step - loss: 0.3517 - acc: 0.9262 - val_loss: 0.9675 - val_acc: 0.8050\n",
      "2246/2246 [==============================] - 0s 90us/step\n",
      "[1.0403207189147214, 0.7809439003202179]\n"
     ]
    }
   ],
   "source": [
    "# 隠れ層を3つに増やす\n",
    "model = models.Sequential()\n",
    "model.add(layers.Dense(64, activation='relu', input_shape=(10000,)))\n",
    "model.add(layers.Dense(64, activation='relu'))\n",
    "model.add(layers.Dense(64, activation='relu'))\n",
    "model.add(layers.Dense(46, activation='softmax'))\n",
    "model.compile(optimizer='rmsprop', loss='categorical_crossentropy', metrics=['acc'])\n",
    "model.fit(partial_x_train, partial_y_train, epochs=8, batch_size=512, validation_data=(x_val, y_val))\n",
    "print(model.evaluate(x_test, y_test)) # -> 正解率78％"
   ]
  },
  {
   "cell_type": "code",
   "execution_count": null,
   "metadata": {},
   "outputs": [],
   "source": []
  }
 ],
 "metadata": {
  "kernelspec": {
   "display_name": "Python 3",
   "language": "python",
   "name": "python3"
  },
  "language_info": {
   "codemirror_mode": {
    "name": "ipython",
    "version": 3
   },
   "file_extension": ".py",
   "mimetype": "text/x-python",
   "name": "python",
   "nbconvert_exporter": "python",
   "pygments_lexer": "ipython3",
   "version": "3.5.6"
  }
 },
 "nbformat": 4,
 "nbformat_minor": 2
}
