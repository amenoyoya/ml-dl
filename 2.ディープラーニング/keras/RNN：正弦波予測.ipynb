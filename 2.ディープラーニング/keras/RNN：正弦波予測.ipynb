{
 "cells": [
  {
   "cell_type": "code",
   "execution_count": 1,
   "metadata": {},
   "outputs": [
    {
     "name": "stderr",
     "output_type": "stream",
     "text": [
      "Using TensorFlow backend.\n"
     ]
    },
    {
     "name": "stdout",
     "output_type": "stream",
     "text": [
      "Train on 158 samples, validate on 18 samples\n",
      "Epoch 1/100\n",
      "158/158 [==============================] - 2s 13ms/step - loss: 0.6144 - val_loss: 0.2499\n",
      "Epoch 2/100\n",
      "158/158 [==============================] - 0s 320us/step - loss: 0.4605 - val_loss: 0.1291\n",
      "Epoch 3/100\n",
      "158/158 [==============================] - 0s 327us/step - loss: 0.3166 - val_loss: 0.0504\n",
      "Epoch 4/100\n",
      "158/158 [==============================] - 0s 285us/step - loss: 0.1979 - val_loss: 0.0352\n",
      "Epoch 5/100\n",
      "158/158 [==============================] - 0s 308us/step - loss: 0.1182 - val_loss: 0.1198\n",
      "Epoch 6/100\n",
      "158/158 [==============================] - 0s 295us/step - loss: 0.1024 - val_loss: 0.2168\n",
      "Epoch 7/100\n",
      "158/158 [==============================] - 0s 279us/step - loss: 0.1093 - val_loss: 0.1849\n",
      "Epoch 8/100\n",
      "158/158 [==============================] - 0s 270us/step - loss: 0.0797 - val_loss: 0.1032\n",
      "Epoch 9/100\n",
      "158/158 [==============================] - 0s 270us/step - loss: 0.0491 - val_loss: 0.0476\n",
      "Epoch 10/100\n",
      "158/158 [==============================] - 0s 267us/step - loss: 0.0368 - val_loss: 0.0225\n",
      "Epoch 11/100\n",
      "158/158 [==============================] - 0s 273us/step - loss: 0.0367 - val_loss: 0.0137\n",
      "Epoch 12/100\n",
      "158/158 [==============================] - 0s 276us/step - loss: 0.0395 - val_loss: 0.0111\n",
      "Epoch 13/100\n",
      "158/158 [==============================] - 0s 279us/step - loss: 0.0401 - val_loss: 0.0101\n",
      "Epoch 14/100\n",
      "158/158 [==============================] - 0s 279us/step - loss: 0.0370 - val_loss: 0.0091\n",
      "Epoch 15/100\n",
      "158/158 [==============================] - 0s 276us/step - loss: 0.0309 - val_loss: 0.0083\n",
      "Epoch 16/100\n",
      "158/158 [==============================] - 0s 276us/step - loss: 0.0233 - val_loss: 0.0085\n",
      "Epoch 17/100\n",
      "158/158 [==============================] - 0s 279us/step - loss: 0.0166 - val_loss: 0.0112\n",
      "Epoch 18/100\n",
      "158/158 [==============================] - 0s 279us/step - loss: 0.0132 - val_loss: 0.0171\n",
      "Epoch 19/100\n",
      "158/158 [==============================] - 0s 270us/step - loss: 0.0139 - val_loss: 0.0237\n",
      "Epoch 20/100\n",
      "158/158 [==============================] - 0s 282us/step - loss: 0.0155 - val_loss: 0.0262\n",
      "Epoch 21/100\n",
      "158/158 [==============================] - 0s 282us/step - loss: 0.0137 - val_loss: 0.0228\n",
      "Epoch 22/100\n",
      "158/158 [==============================] - 0s 267us/step - loss: 0.0091 - val_loss: 0.0162\n",
      "Epoch 23/100\n",
      "158/158 [==============================] - 0s 295us/step - loss: 0.0054 - val_loss: 0.0096\n",
      "Epoch 24/100\n",
      "158/158 [==============================] - 0s 279us/step - loss: 0.0045 - val_loss: 0.0052\n",
      "Epoch 25/100\n",
      "158/158 [==============================] - 0s 282us/step - loss: 0.0057 - val_loss: 0.0028\n",
      "Epoch 26/100\n",
      "158/158 [==============================] - 0s 295us/step - loss: 0.0071 - val_loss: 0.0017\n",
      "Epoch 27/100\n",
      "158/158 [==============================] - 0s 298us/step - loss: 0.0072 - val_loss: 0.0011\n",
      "Epoch 28/100\n",
      "158/158 [==============================] - 0s 292us/step - loss: 0.0055 - val_loss: 5.6399e-04\n",
      "Epoch 29/100\n",
      "158/158 [==============================] - 0s 273us/step - loss: 0.0030 - val_loss: 3.4473e-04\n",
      "Epoch 30/100\n",
      "158/158 [==============================] - 0s 267us/step - loss: 0.0015 - val_loss: 5.6812e-04\n",
      "Epoch 31/100\n",
      "158/158 [==============================] - 0s 286us/step - loss: 0.0021 - val_loss: 0.0010\n",
      "Epoch 32/100\n",
      "158/158 [==============================] - 0s 270us/step - loss: 0.0037 - val_loss: 0.0017\n",
      "Epoch 33/100\n",
      "158/158 [==============================] - 0s 282us/step - loss: 0.0041 - val_loss: 0.0030\n",
      "Epoch 34/100\n",
      "158/158 [==============================] - 0s 276us/step - loss: 0.0033 - val_loss: 0.0045\n",
      "Epoch 35/100\n",
      "158/158 [==============================] - 0s 273us/step - loss: 0.0027 - val_loss: 0.0051\n",
      "Epoch 36/100\n",
      "158/158 [==============================] - 0s 286us/step - loss: 0.0030 - val_loss: 0.0044\n",
      "Epoch 37/100\n",
      "158/158 [==============================] - 0s 273us/step - loss: 0.0032 - val_loss: 0.0027\n",
      "Epoch 38/100\n",
      "158/158 [==============================] - 0s 273us/step - loss: 0.0027 - val_loss: 0.0010\n",
      "Epoch 39/100\n",
      "158/158 [==============================] - 0s 286us/step - loss: 0.0019 - val_loss: 3.6014e-04\n",
      "Epoch 40/100\n",
      "158/158 [==============================] - 0s 292us/step - loss: 0.0014 - val_loss: 0.0010\n",
      "Epoch 41/100\n",
      "158/158 [==============================] - 0s 286us/step - loss: 0.0017 - val_loss: 0.0023\n",
      "Epoch 42/100\n",
      "158/158 [==============================] - 0s 282us/step - loss: 0.0023 - val_loss: 0.0028\n",
      "Epoch 43/100\n",
      "158/158 [==============================] - 0s 279us/step - loss: 0.0025 - val_loss: 0.0024\n",
      "Epoch 44/100\n",
      "158/158 [==============================] - 0s 282us/step - loss: 0.0021 - val_loss: 0.0015\n",
      "Epoch 45/100\n",
      "158/158 [==============================] - 0s 273us/step - loss: 0.0017 - val_loss: 9.0157e-04\n",
      "Epoch 46/100\n",
      "158/158 [==============================] - 0s 286us/step - loss: 0.0016 - val_loss: 6.3619e-04\n",
      "Epoch 47/100\n",
      "158/158 [==============================] - 0s 298us/step - loss: 0.0017 - val_loss: 5.7220e-04\n",
      "Epoch 48/100\n",
      "158/158 [==============================] - 0s 286us/step - loss: 0.0018 - val_loss: 5.3422e-04\n",
      "Epoch 49/100\n",
      "158/158 [==============================] - 0s 276us/step - loss: 0.0017 - val_loss: 4.8114e-04\n"
     ]
    },
    {
     "data": {
      "text/plain": [
       "<keras.callbacks.History at 0x1b80906be10>"
      ]
     },
     "execution_count": 1,
     "metadata": {},
     "output_type": "execute_result"
    }
   ],
   "source": [
    "import numpy as np\n",
    "from keras.models import Sequential\n",
    "from keras.layers.core import Dense\n",
    "from keras.layers.recurrent import LSTM\n",
    "from keras.optimizers import Adam\n",
    "from keras.callbacks import EarlyStopping\n",
    "\n",
    "# sin波の生成\n",
    "def sin(x, T=100):\n",
    "    return np.sin(2.0 * np.pi * x / T)\n",
    "\n",
    "# sin波にノイズを付与する\n",
    "def toy_problem(T=100, ampl=0.05):\n",
    "    x = np.arange(0, 2 * T + 1)\n",
    "    noise = ampl * np.random.uniform(low=-1.0, high=1.0, size=len(x))\n",
    "    return sin(x) + noise\n",
    "\n",
    "f = toy_problem()\n",
    "\n",
    "# sin波のデータをRNN用に成形\n",
    "''' 以下のように25ステップごとにラベルデータ1つで学習データを構成\n",
    "Train(0) Train( 1 ) ... Train( 24 ) -> Label(0) = Predict(Train( 25 ))\n",
    "Train(1) Train( 2 ) ... Train( 25 ) -> Label(1) = Predict(Train( 26 ))\n",
    "  :\n",
    "Train(t) Train(t+1) ... Train(t+24) -> Label(t) = Predict(Train(t+25))\n",
    "'''\n",
    "def make_dataset(low_data, n_prev=100):\n",
    "    data, target = [], []\n",
    "    maxlen = 25\n",
    "    for i in range(len(low_data)-maxlen):\n",
    "        data.append(low_data[i:i + maxlen])\n",
    "        target.append(low_data[i + maxlen])\n",
    "    re_data = np.array(data).reshape(len(data), maxlen, 1)\n",
    "    re_target = np.array(target).reshape(len(data), 1)\n",
    "    return re_data, re_target\n",
    "\n",
    "# g -> 学習データ，h -> 学習ラベル\n",
    "g, h = make_dataset(f)\n",
    "\n",
    "# RNNモデル構築\n",
    "model = Sequential()\n",
    "model.add(LSTM(300, batch_input_shape=(None, g.shape[1], 1), return_sequences=False))\n",
    "model.add(Dense(1, activation='linear'))\n",
    "model.compile(loss=\"mean_squared_error\", optimizer=Adam(lr=0.001))\n",
    "\n",
    "# 学習時間の節約のためEarlyStoppingを設定\n",
    "# 検証データの誤差値が収束してから、更に20エポック語に学習終了\n",
    "early_stopping = EarlyStopping(monitor='val_loss', mode='auto', patience=20)\n",
    "\n",
    "# 訓練実行\n",
    "model.fit(g, h,\n",
    "          batch_size=300,\n",
    "          epochs=100,\n",
    "          validation_split=0.1, # 訓練データのうち10％を検証データとして仕様\n",
    "          callbacks=[early_stopping]\n",
    "         )"
   ]
  },
  {
   "cell_type": "code",
   "execution_count": 3,
   "metadata": {},
   "outputs": [
    {
     "data": {
      "image/png": "[encoded data removed]",
      "text/plain": [
       "<Figure size 432x288 with 1 Axes>"
      ]
     },
     "metadata": {
      "needs_background": "light"
     },
     "output_type": "display_data"
    }
   ],
   "source": [
    "# 予測\n",
    "pred = model.predict(g) # t=25以降のsin波の波形を予測\n",
    "\n",
    "import matplotlib.pyplot as plt\n",
    "%matplotlib inline\n",
    "\n",
    "plt.plot(range(25,len(pred)+25), pred, color=\"r\", label=\"predict_data\")\n",
    "plt.plot(range(0, len(f)), f, color=\"b\", label=\"row_data\")\n",
    "plt.legend()\n",
    "plt.show()"
   ]
  },
  {
   "cell_type": "markdown",
   "metadata": {},
   "source": [
    "予測sin波の方は、ほとんどノイズの影響を受けずに予測することができている。"
   ]
  },
  {
   "cell_type": "code",
   "execution_count": 4,
   "metadata": {},
   "outputs": [
    {
     "name": "stdout",
     "output_type": "stream",
     "text": [
      "(176, 25, 1) [[-0.97358559]\n",
      " [-0.99451851]\n",
      " [-0.99347075]\n",
      " [-0.99335769]\n",
      " [-0.99875935]\n",
      " [-0.98157992]\n",
      " [-0.8798936 ]\n",
      " [-0.85551441]\n",
      " [-0.86501695]\n",
      " [-0.87443805]\n",
      " [-0.8129023 ]\n",
      " [-0.76933741]\n",
      " [-0.73965267]\n",
      " [-0.69122671]\n",
      " [-0.64839895]\n",
      " [-0.59850464]\n",
      " [-0.5462888 ]\n",
      " [-0.52226976]\n",
      " [-0.41426422]\n",
      " [-0.36399013]\n",
      " [-0.35029042]\n",
      " [-0.23460341]\n",
      " [-0.20812188]\n",
      " [-0.13496744]\n",
      " [-0.10841895]]\n"
     ]
    }
   ],
   "source": [
    "''' 訓練済みモデルによる未来予測 '''\n",
    "# 学習データの確認\n",
    "print(g.shape, g[175])"
   ]
  },
  {
   "cell_type": "code",
   "execution_count": 5,
   "metadata": {},
   "outputs": [
    {
     "data": {
      "text/plain": [
       "array([[-0.02701224]], dtype=float32)"
      ]
     },
     "execution_count": 5,
     "metadata": {},
     "output_type": "execute_result"
    }
   ],
   "source": [
    "# 学習データの1つ先の未来を予測\n",
    "x = g[175].reshape(1, 25, 1) # 学習データの最後の25個の数値＝特徴量\n",
    "pred = model.predict(x)\n",
    "pred"
   ]
  },
  {
   "cell_type": "code",
   "execution_count": 6,
   "metadata": {},
   "outputs": [
    {
     "data": {
      "text/plain": [
       "array([[[-0.99451851],\n",
       "        [-0.99347075],\n",
       "        [-0.99335769],\n",
       "        [-0.99875935],\n",
       "        [-0.98157992],\n",
       "        [-0.8798936 ],\n",
       "        [-0.85551441],\n",
       "        [-0.86501695],\n",
       "        [-0.87443805],\n",
       "        [-0.8129023 ],\n",
       "        [-0.76933741],\n",
       "        [-0.73965267],\n",
       "        [-0.69122671],\n",
       "        [-0.64839895],\n",
       "        [-0.59850464],\n",
       "        [-0.5462888 ],\n",
       "        [-0.52226976],\n",
       "        [-0.41426422],\n",
       "        [-0.36399013],\n",
       "        [-0.35029042],\n",
       "        [-0.23460341],\n",
       "        [-0.20812188],\n",
       "        [-0.13496744],\n",
       "        [-0.10841895],\n",
       "        [-0.02701224]]])"
      ]
     },
     "execution_count": 6,
     "metadata": {},
     "output_type": "execute_result"
    }
   ],
   "source": [
    "# 特徴量データを更新\n",
    "'''\n",
    "[Data(175) Data(176) ... Data(199)] -> [Data(176) Data(177) ... Data(199) Predict(200)]\n",
    "'''\n",
    "x = np.delete(x, 0) # 先頭の数値を削除\n",
    "x = np.append(x, pred) # 最後尾に予測値を追加\n",
    "x.reshape(1, 25, 1)"
   ]
  },
  {
   "cell_type": "code",
   "execution_count": 7,
   "metadata": {},
   "outputs": [
    {
     "data": {
      "text/plain": [
       "array([[0.03072991]], dtype=float32)"
      ]
     },
     "execution_count": 7,
     "metadata": {},
     "output_type": "execute_result"
    }
   ],
   "source": [
    "# 学習データの2つ先の未来を予測\n",
    "x = x.reshape(1, 25, 1)\n",
    "pred = model.predict(x)\n",
    "pred"
   ]
  },
  {
   "cell_type": "code",
   "execution_count": 8,
   "metadata": {},
   "outputs": [
    {
     "data": {
      "image/png": "[encoded data removed]",
      "text/plain": [
       "<Figure size 432x288 with 1 Axes>"
      ]
     },
     "metadata": {
      "needs_background": "light"
     },
     "output_type": "display_data"
    }
   ],
   "source": [
    "# 学習データ以降のN個の未来を予測\n",
    "N = 400\n",
    "future_results = np.empty((0))\n",
    "x = g[175]\n",
    "\n",
    "for step in range(N):\n",
    "    x = x.reshape(1, 25, 1)\n",
    "    pred = model.predict(x)\n",
    "    x = np.append(np.delete(x, 0), pred)\n",
    "    future_results = np.append(future_results, pred)\n",
    "\n",
    "# sin波をプロット\n",
    "plt.plot(range(0, len(f)), f, color=\"b\", label=\"row\")\n",
    "plt.plot(range(0+len(f), len(future_results)+len(f)), future_results, color=\"r\", label=\"future\")\n",
    "plt.legend()\n",
    "plt.show()"
   ]
  },
  {
   "cell_type": "markdown",
   "metadata": {},
   "source": [
    "上図の通り、sin波の予測値は、遠い未来になるほど0に収束していっている。これは学習データの長さ（特徴量の次元数）が短いためと考えられる。そこで、今度は40ステップごとの学習データを作って予測してみる。"
   ]
  },
  {
   "cell_type": "code",
   "execution_count": 9,
   "metadata": {},
   "outputs": [
    {
     "name": "stdout",
     "output_type": "stream",
     "text": [
      "Train on 144 samples, validate on 17 samples\n",
      "Epoch 1/100\n",
      "144/144 [==============================] - 1s 6ms/step - loss: 0.5289 - val_loss: 0.1872\n",
      "Epoch 2/100\n",
      "144/144 [==============================] - 0s 547us/step - loss: 0.3963 - val_loss: 0.0831\n",
      "Epoch 3/100\n",
      "144/144 [==============================] - 0s 547us/step - loss: 0.2709 - val_loss: 0.0292\n",
      "Epoch 4/100\n",
      "144/144 [==============================] - 0s 529us/step - loss: 0.1688 - val_loss: 0.0817\n",
      "Epoch 5/100\n",
      "144/144 [==============================] - 0s 508us/step - loss: 0.1110 - val_loss: 0.2313\n",
      "Epoch 6/100\n",
      "144/144 [==============================] - 0s 505us/step - loss: 0.1080 - val_loss: 0.1942\n",
      "Epoch 7/100\n",
      "144/144 [==============================] - 0s 494us/step - loss: 0.0832 - val_loss: 0.0940\n",
      "Epoch 8/100\n",
      "144/144 [==============================] - 0s 512us/step - loss: 0.0499 - val_loss: 0.0356\n",
      "Epoch 9/100\n",
      "144/144 [==============================] - 0s 505us/step - loss: 0.0338 - val_loss: 0.0134\n",
      "Epoch 10/100\n",
      "144/144 [==============================] - 0s 498us/step - loss: 0.0309 - val_loss: 0.0079\n",
      "Epoch 11/100\n",
      "144/144 [==============================] - 0s 491us/step - loss: 0.0321 - val_loss: 0.0076\n",
      "Epoch 12/100\n",
      "144/144 [==============================] - 0s 477us/step - loss: 0.0316 - val_loss: 0.0072\n",
      "Epoch 13/100\n",
      "144/144 [==============================] - 0s 487us/step - loss: 0.0276 - val_loss: 0.0057\n",
      "Epoch 14/100\n",
      "144/144 [==============================] - 0s 477us/step - loss: 0.0204 - val_loss: 0.0040\n",
      "Epoch 15/100\n",
      "144/144 [==============================] - 0s 498us/step - loss: 0.0122 - val_loss: 0.0044\n",
      "Epoch 16/100\n",
      "144/144 [==============================] - 0s 480us/step - loss: 0.0062 - val_loss: 0.0084\n",
      "Epoch 17/100\n",
      "144/144 [==============================] - 0s 480us/step - loss: 0.0053 - val_loss: 0.0136\n",
      "Epoch 18/100\n",
      "144/144 [==============================] - 0s 473us/step - loss: 0.0080 - val_loss: 0.0136\n",
      "Epoch 19/100\n",
      "144/144 [==============================] - 0s 470us/step - loss: 0.0083 - val_loss: 0.0078\n",
      "Epoch 20/100\n",
      "144/144 [==============================] - 0s 470us/step - loss: 0.0051 - val_loss: 0.0019\n",
      "Epoch 21/100\n",
      "144/144 [==============================] - 0s 473us/step - loss: 0.0032 - val_loss: 6.1016e-04\n",
      "Epoch 22/100\n",
      "144/144 [==============================] - 0s 480us/step - loss: 0.0048 - val_loss: 0.0029\n",
      "Epoch 23/100\n",
      "144/144 [==============================] - 0s 467us/step - loss: 0.0074 - val_loss: 0.0050\n",
      "Epoch 24/100\n",
      "144/144 [==============================] - 0s 477us/step - loss: 0.0080 - val_loss: 0.0047\n",
      "Epoch 25/100\n",
      "144/144 [==============================] - 0s 467us/step - loss: 0.0061 - val_loss: 0.0028\n",
      "Epoch 26/100\n",
      "144/144 [==============================] - 0s 477us/step - loss: 0.0035 - val_loss: 9.6005e-04\n",
      "Epoch 27/100\n",
      "144/144 [==============================] - 0s 467us/step - loss: 0.0021 - val_loss: 3.8657e-04\n",
      "Epoch 28/100\n",
      "144/144 [==============================] - 0s 498us/step - loss: 0.0024 - val_loss: 7.1554e-04\n",
      "Epoch 29/100\n",
      "144/144 [==============================] - 0s 477us/step - loss: 0.0032 - val_loss: 9.5804e-04\n",
      "Epoch 30/100\n",
      "144/144 [==============================] - 0s 494us/step - loss: 0.0032 - val_loss: 8.0951e-04\n",
      "Epoch 31/100\n",
      "144/144 [==============================] - 0s 480us/step - loss: 0.0026 - val_loss: 6.0342e-04\n",
      "Epoch 32/100\n",
      "144/144 [==============================] - 0s 477us/step - loss: 0.0023 - val_loss: 5.5903e-04\n",
      "Epoch 33/100\n",
      "144/144 [==============================] - 0s 473us/step - loss: 0.0024 - val_loss: 5.9658e-04\n",
      "Epoch 34/100\n",
      "144/144 [==============================] - 0s 487us/step - loss: 0.0027 - val_loss: 6.2343e-04\n",
      "Epoch 35/100\n",
      "144/144 [==============================] - 0s 477us/step - loss: 0.0028 - val_loss: 7.3227e-04\n",
      "Epoch 36/100\n",
      "144/144 [==============================] - 0s 474us/step - loss: 0.0026 - val_loss: 0.0011\n",
      "Epoch 37/100\n",
      "144/144 [==============================] - 0s 480us/step - loss: 0.0024 - val_loss: 0.0018\n",
      "Epoch 38/100\n",
      "144/144 [==============================] - 0s 491us/step - loss: 0.0023 - val_loss: 0.0024\n",
      "Epoch 39/100\n",
      "144/144 [==============================] - 0s 477us/step - loss: 0.0025 - val_loss: 0.0025\n",
      "Epoch 40/100\n",
      "144/144 [==============================] - 0s 480us/step - loss: 0.0025 - val_loss: 0.0018\n",
      "Epoch 41/100\n",
      "144/144 [==============================] - 0s 480us/step - loss: 0.0023 - val_loss: 8.7269e-04\n",
      "Epoch 42/100\n",
      "144/144 [==============================] - 0s 477us/step - loss: 0.0019 - val_loss: 3.5878e-04\n",
      "Epoch 43/100\n",
      "144/144 [==============================] - 0s 487us/step - loss: 0.0016 - val_loss: 5.0609e-04\n",
      "Epoch 44/100\n",
      "144/144 [==============================] - 0s 480us/step - loss: 0.0016 - val_loss: 0.0011\n",
      "Epoch 45/100\n",
      "144/144 [==============================] - 0s 473us/step - loss: 0.0016 - val_loss: 0.0015\n",
      "Epoch 46/100\n",
      "144/144 [==============================] - 0s 487us/step - loss: 0.0016 - val_loss: 0.0017\n",
      "Epoch 47/100\n",
      "144/144 [==============================] - 0s 491us/step - loss: 0.0016 - val_loss: 0.0015\n",
      "Epoch 48/100\n",
      "144/144 [==============================] - 0s 480us/step - loss: 0.0016 - val_loss: 0.0013\n",
      "Epoch 49/100\n",
      "144/144 [==============================] - 0s 494us/step - loss: 0.0017 - val_loss: 0.0011\n",
      "Epoch 50/100\n",
      "144/144 [==============================] - 0s 470us/step - loss: 0.0017 - val_loss: 9.5818e-04\n",
      "Epoch 51/100\n",
      "144/144 [==============================] - 0s 473us/step - loss: 0.0017 - val_loss: 9.4933e-04\n",
      "Epoch 52/100\n",
      "144/144 [==============================] - 0s 505us/step - loss: 0.0016 - val_loss: 9.7186e-04\n",
      "Epoch 53/100\n",
      "144/144 [==============================] - 0s 484us/step - loss: 0.0015 - val_loss: 9.4556e-04\n",
      "Epoch 54/100\n",
      "144/144 [==============================] - 0s 480us/step - loss: 0.0014 - val_loss: 8.1390e-04\n",
      "Epoch 55/100\n",
      "144/144 [==============================] - 0s 473us/step - loss: 0.0015 - val_loss: 6.0485e-04\n",
      "Epoch 56/100\n",
      "144/144 [==============================] - 0s 477us/step - loss: 0.0014 - val_loss: 4.2080e-04\n",
      "Epoch 57/100\n",
      "144/144 [==============================] - 0s 467us/step - loss: 0.0014 - val_loss: 3.5095e-04\n",
      "Epoch 58/100\n",
      "144/144 [==============================] - 0s 473us/step - loss: 0.0014 - val_loss: 3.9175e-04\n",
      "Epoch 59/100\n",
      "144/144 [==============================] - 0s 480us/step - loss: 0.0014 - val_loss: 4.5857e-04\n",
      "Epoch 60/100\n",
      "144/144 [==============================] - 0s 480us/step - loss: 0.0014 - val_loss: 4.7506e-04\n",
      "Epoch 61/100\n",
      "144/144 [==============================] - 0s 494us/step - loss: 0.0014 - val_loss: 4.3892e-04\n",
      "Epoch 62/100\n",
      "144/144 [==============================] - 0s 487us/step - loss: 0.0014 - val_loss: 3.9894e-04\n",
      "Epoch 63/100\n",
      "144/144 [==============================] - 0s 473us/step - loss: 0.0014 - val_loss: 3.8919e-04\n",
      "Epoch 64/100\n",
      "144/144 [==============================] - 0s 487us/step - loss: 0.0014 - val_loss: 4.0064e-04\n",
      "Epoch 65/100\n",
      "144/144 [==============================] - 0s 501us/step - loss: 0.0014 - val_loss: 4.0632e-04\n",
      "Epoch 66/100\n",
      "144/144 [==============================] - 0s 473us/step - loss: 0.0014 - val_loss: 3.9613e-04\n",
      "Epoch 67/100\n",
      "144/144 [==============================] - 0s 484us/step - loss: 0.0014 - val_loss: 3.8234e-04\n",
      "Epoch 68/100\n",
      "144/144 [==============================] - 0s 473us/step - loss: 0.0013 - val_loss: 3.7813e-04\n",
      "Epoch 69/100\n",
      "144/144 [==============================] - 0s 477us/step - loss: 0.0013 - val_loss: 3.8052e-04\n",
      "Epoch 70/100\n",
      "144/144 [==============================] - 0s 484us/step - loss: 0.0013 - val_loss: 3.7822e-04\n",
      "Epoch 71/100\n",
      "144/144 [==============================] - 0s 477us/step - loss: 0.0013 - val_loss: 3.7003e-04\n",
      "Epoch 72/100\n",
      "144/144 [==============================] - 0s 484us/step - loss: 0.0013 - val_loss: 3.6660e-04\n",
      "Epoch 73/100\n",
      "144/144 [==============================] - 0s 484us/step - loss: 0.0013 - val_loss: 3.7461e-04\n",
      "Epoch 74/100\n",
      "144/144 [==============================] - 0s 491us/step - loss: 0.0013 - val_loss: 3.8717e-04\n",
      "Epoch 75/100\n",
      "144/144 [==============================] - 0s 477us/step - loss: 0.0013 - val_loss: 3.9250e-04\n",
      "Epoch 76/100\n",
      "144/144 [==============================] - 0s 484us/step - loss: 0.0013 - val_loss: 3.8739e-04\n",
      "Epoch 77/100\n",
      "144/144 [==============================] - 0s 484us/step - loss: 0.0013 - val_loss: 3.7829e-04\n"
     ]
    },
    {
     "data": {
      "text/plain": [
       "<keras.callbacks.History at 0x1b9ec5718d0>"
      ]
     },
     "execution_count": 9,
     "metadata": {},
     "output_type": "execute_result"
    }
   ],
   "source": [
    "def make_dataset(low_data, maxlen=25, n_prev=100):\n",
    "    data, target = [], []\n",
    "    for i in range(len(low_data)-maxlen):\n",
    "        data.append(low_data[i:i + maxlen])\n",
    "        target.append(low_data[i + maxlen])\n",
    "    re_data = np.array(data).reshape(len(data), maxlen, 1)\n",
    "    re_target = np.array(target).reshape(len(data), 1)\n",
    "    return re_data, re_target\n",
    "\n",
    "g, h = make_dataset(f, 40)\n",
    "\n",
    "model = Sequential()\n",
    "model.add(LSTM(300, batch_input_shape=(None, g.shape[1], 1), return_sequences=False))\n",
    "model.add(Dense(1, activation='linear'))\n",
    "model.compile(loss=\"mean_squared_error\", optimizer=Adam(lr=0.001))\n",
    "\n",
    "early_stopping = EarlyStopping(monitor='val_loss', mode='auto', patience=20)\n",
    "model.fit(g, h, batch_size=300, epochs=100, validation_split=0.1, callbacks=[early_stopping])"
   ]
  },
  {
   "cell_type": "code",
   "execution_count": 10,
   "metadata": {},
   "outputs": [
    {
     "data": {
      "image/png": "[encoded data removed]",
      "text/plain": [
       "<Figure size 432x288 with 1 Axes>"
      ]
     },
     "metadata": {
      "needs_background": "light"
     },
     "output_type": "display_data"
    }
   ],
   "source": [
    "# 学習データ以降のN個の未来を予測\n",
    "N = 400\n",
    "future_results = np.empty((0))\n",
    "x = g[160]\n",
    "\n",
    "for step in range(N):\n",
    "    x = x.reshape(1, 40, 1)\n",
    "    pred = model.predict(x)\n",
    "    x = np.append(np.delete(x, 0), pred)\n",
    "    future_results = np.append(future_results, pred)\n",
    "\n",
    "# sin波をプロット\n",
    "plt.plot(range(0, len(f)), f, color=\"b\", label=\"row\")\n",
    "plt.plot(range(0+len(f), len(future_results)+len(f)), future_results, color=\"r\", label=\"future\")\n",
    "plt.legend()\n",
    "plt.show()"
   ]
  },
  {
   "cell_type": "markdown",
   "metadata": {},
   "source": [
    "上図の通り、学習データの長さを増やすことで未来予測は比較的正確になっている。しかし、今度は徐々に拡散してしまっていることから、今回採用したRNNネットワークでは、十分な長さの過去データに対してかなり短い先の未来しか予測できないことが分かる。"
   ]
  },
  {
   "cell_type": "code",
   "execution_count": null,
   "metadata": {},
   "outputs": [],
   "source": []
  }
 ],
 "metadata": {
  "kernelspec": {
   "display_name": "Python 3",
   "language": "python",
   "name": "python3"
  },
  "language_info": {
   "codemirror_mode": {
    "name": "ipython",
    "version": 3
   },
   "file_extension": ".py",
   "mimetype": "text/x-python",
   "name": "python",
   "nbconvert_exporter": "python",
   "pygments_lexer": "ipython3",
   "version": "3.5.6"
  }
 },
 "nbformat": 4,
 "nbformat_minor": 2
}
