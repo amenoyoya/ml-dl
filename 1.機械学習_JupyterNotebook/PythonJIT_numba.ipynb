{
 "cells": [
  {
   "cell_type": "code",
   "execution_count": 1,
   "metadata": {},
   "outputs": [
    {
     "name": "stdout",
     "output_type": "stream",
     "text": [
      "4999999950000000.0\n",
      "elapsed_time: 21.535102605819702[sec]\n"
     ]
    }
   ],
   "source": [
    "from numpy import arange\n",
    "import time\n",
    "\n",
    "# JITなしバージョン\n",
    "def sum2d(arr):\n",
    "  M, N = arr.shape\n",
    "  result = 0.0\n",
    "  for i in range(M):\n",
    "    for j in range(N):\n",
    "      result += arr[i, j]\n",
    "  return result\n",
    "\n",
    "start = time.time()\n",
    "a = arange(100000000).reshape(10000, 10000)\n",
    "print(sum2d(a))\n",
    "elapsed_time = time.time() - start\n",
    "print(\"elapsed_time: {0}[sec]\".format(elapsed_time))"
   ]
  },
  {
   "cell_type": "code",
   "execution_count": 2,
   "metadata": {},
   "outputs": [
    {
     "name": "stdout",
     "output_type": "stream",
     "text": [
      "4999999950000000.0\n",
      "elapsed_time: 0.8838033676147461[sec]\n"
     ]
    }
   ],
   "source": [
    "from numba import jit\n",
    "\n",
    "# JIT有効化： numba.jitデコレータを使用\n",
    "@jit\n",
    "def sum2d(arr):\n",
    "  M, N = arr.shape\n",
    "  result = 0.0\n",
    "  for i in range(M):\n",
    "    for j in range(N):\n",
    "      result += arr[i, j]\n",
    "  return result\n",
    "\n",
    "start = time.time()\n",
    "a = arange(100000000).reshape(10000, 10000)\n",
    "print(sum2d(a))\n",
    "elapsed_time = time.time() - start\n",
    "print(\"elapsed_time: {0}[sec]\".format(elapsed_time))"
   ]
  },
  {
   "cell_type": "code",
   "execution_count": null,
   "metadata": {},
   "outputs": [],
   "source": []
  }
 ],
 "metadata": {
  "kernelspec": {
   "display_name": "Python 3",
   "language": "python",
   "name": "python3"
  },
  "language_info": {
   "codemirror_mode": {
    "name": "ipython",
    "version": 3
   },
   "file_extension": ".py",
   "mimetype": "text/x-python",
   "name": "python",
   "nbconvert_exporter": "python",
   "pygments_lexer": "ipython3",
   "version": "3.5.6"
  }
 },
 "nbformat": 4,
 "nbformat_minor": 2
}
