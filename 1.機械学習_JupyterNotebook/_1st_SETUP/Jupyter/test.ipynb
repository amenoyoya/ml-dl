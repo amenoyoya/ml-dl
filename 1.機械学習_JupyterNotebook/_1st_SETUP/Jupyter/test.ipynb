{
 "cells": [
  {
   "cell_type": "code",
   "execution_count": 19,
   "metadata": {},
   "outputs": [
    {
     "name": "stdout",
     "output_type": "stream",
     "text": [
      "経過時間： 0.7894674114568261\n",
      "経過時間： 0 秒 789 ミリ秒 467 マイクロ秒\n"
     ]
    }
   ],
   "source": [
    "import time\n",
    "t = time.perf_counter()\n",
    "time.sleep(0.789)\n",
    "counter = time.perf_counter() - t\n",
    "print('経過時間：', counter)\n",
    "print('経過時間：', int(counter), '秒', int((counter - int(counter)) * 1000), 'ミリ秒', int((counter * 1000 - int(counter) * 1000 - int((counter - int(counter)) * 1000)) * 1000), 'マイクロ秒') "
   ]
  },
  {
   "cell_type": "code",
   "execution_count": 21,
   "metadata": {},
   "outputs": [
    {
     "data": {
      "text/plain": [
       "{'cnt': 2822.7638972563036, 'sec': 2822, 'ms': 763, 'us': 897}"
      ]
     },
     "execution_count": 21,
     "metadata": {},
     "output_type": "execute_result"
    }
   ],
   "source": [
    "def counter():\n",
    "    a = {'cnt': time.perf_counter(), 'sec': 0, 'ms': 0, 'us': 0}\n",
    "    a['sec'] = int(a['cnt'])\n",
    "    a['ms'] = int((a['cnt'] - a['sec']) * 1000)\n",
    "    a['us'] = int((a['cnt'] * 1000 - a['sec'] * 1000 - a['ms']) * 1000)\n",
    "    return a\n",
    "counter()"
   ]
  },
  {
   "cell_type": "code",
   "execution_count": 1,
   "metadata": {},
   "outputs": [
    {
     "data": {
      "text/plain": [
       "19880428"
      ]
     },
     "execution_count": 1,
     "metadata": {},
     "output_type": "execute_result"
    }
   ],
   "source": [
    "int('19880428')"
   ]
  },
  {
   "cell_type": "code",
   "execution_count": 6,
   "metadata": {},
   "outputs": [
    {
     "name": "stdout",
     "output_type": "stream",
     "text": [
      "4\n",
      "4\n",
      "11\n"
     ]
    }
   ],
   "source": [
    "def numerology(s):\n",
    "    n = 0\n",
    "    for c in s: n += int(c)\n",
    "    return n\n",
    "\n",
    "def kabbala(n):\n",
    "    s = type(n) is str and n or str(n)\n",
    "    if len(s) == 1 or (len(s) == 2 and s[0] == s[1]): return n\n",
    "    return kabbala(numerology(s))\n",
    "\n",
    "print(kabbala(19880428))\n",
    "print(kabbala('19880617'))\n",
    "print(kabbala(19870211))"
   ]
  },
  {
   "cell_type": "code",
   "execution_count": null,
   "metadata": {},
   "outputs": [],
   "source": []
  }
 ],
 "metadata": {
  "kernelspec": {
   "display_name": "Python 3",
   "language": "python",
   "name": "python3"
  },
  "language_info": {
   "codemirror_mode": {
    "name": "ipython",
    "version": 3
   },
   "file_extension": ".py",
   "mimetype": "text/x-python",
   "name": "python",
   "nbconvert_exporter": "python",
   "pygments_lexer": "ipython3",
   "version": "3.6.5"
  }
 },
 "nbformat": 4,
 "nbformat_minor": 2
}
