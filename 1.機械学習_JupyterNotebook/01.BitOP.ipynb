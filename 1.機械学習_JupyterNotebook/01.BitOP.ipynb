{
 "cells": [
  {
   "cell_type": "code",
   "execution_count": 4,
   "metadata": {},
   "outputs": [
    {
     "name": "stdout",
     "output_type": "stream",
     "text": [
      "[[0, 0], [1, 1], [1, 0], [0, 0], [0, 1], [1, 1]] の予測結果: [0 1 0 0 0 1]\n",
      "正解率: 1.0\n"
     ]
    }
   ],
   "source": [
    "''' ScikitLearnでAND演算を機械学習 '''\n",
    "# AND: [0,0]->[0], [1,0]->[0], [0,1]->[0], [1,1]->[1]\n",
    "## [0,1]の組み合わせをカテゴライズし、[0]か[1]にラベリングすると考える\n",
    "### チートシートよりLinearSVCアルゴリズムを採用\n",
    "from sklearn.svm import LinearSVC\n",
    "from sklearn.metrics import accuracy_score # 予測結果の精度評価用\n",
    "\n",
    "# 学習データ\n",
    "data = [[0,0], [0,1], [1,0], [1,1]]\n",
    "label = [0, 0, 0, 1]\n",
    "\n",
    "# 機械学習\n",
    "clf = LinearSVC()\n",
    "clf.fit(data, label)\n",
    "\n",
    "# 学習結果から答えを予測\n",
    "problem = [[0,0], [1,1], [1,0], [0,0], [0,1], [1,1]] # 問題\n",
    "answer = [0, 1, 0, 0, 0, 1] # 答え\n",
    "predict = clf.predict(problem) # 予測\n",
    "\n",
    "# 学習結果の精度を評価\n",
    "print(problem, 'の予測結果:', predict)\n",
    "print('正解率:', accuracy_score(answer, predict))"
   ]
  },
  {
   "cell_type": "code",
   "execution_count": 5,
   "metadata": {},
   "outputs": [
    {
     "name": "stdout",
     "output_type": "stream",
     "text": [
      "[[0, 0], [1, 1], [1, 0], [0, 0], [0, 1], [1, 1]] の予測結果: [1 1 1 1 1 1]\n",
      "正解率: 0.3333333333333333\n"
     ]
    }
   ],
   "source": [
    "''' SckitLearnでXOR演算を機械学習 '''\n",
    "# XOR: [0,0]->[0], [1,0]->[1], [0,1]->[1], [1,1]->[0]\n",
    "## AND演算と同様に考えて、LinearSVCアルゴリズムで機械学習してみる\n",
    "\n",
    "# 学習データ\n",
    "data = [[0,0], [0,1], [1,0], [1,1]]\n",
    "label = [0, 1, 1, 0]\n",
    "\n",
    "# 機械学習\n",
    "clf = LinearSVC()\n",
    "clf.fit(data, label)\n",
    "\n",
    "# 学習結果から答えを予測\n",
    "problem = [[0,0], [1,1], [1,0], [0,0], [0,1], [1,1]] # 問題\n",
    "answer = [0, 0, 1, 0, 1, 0] # 答え\n",
    "predict = clf.predict(problem) # 予測\n",
    "\n",
    "# 学習結果の精度を評価\n",
    "print(problem, 'の予測結果:', predict)\n",
    "print('正解率:', accuracy_score(answer, predict))"
   ]
  },
  {
   "cell_type": "code",
   "execution_count": 9,
   "metadata": {},
   "outputs": [
    {
     "name": "stdout",
     "output_type": "stream",
     "text": [
      "[[0, 0], [1, 1], [1, 0], [0, 0], [0, 1], [1, 1]] の予測結果: [0 0 0 0 0 0]\n",
      "正解率: 0.6666666666666666\n"
     ]
    }
   ],
   "source": [
    "## 十分な精度を得られなかったため、学習データを増やしてみる\n",
    "\n",
    "# 学習データ（増量版）\n",
    "data = [[0,0], [0,1], [1,0], [1,1], [1,0], [0,1], [0,0], [1,1], [1,1], [1,0], [0,0], [0,1]]\n",
    "label = [0, 1, 1, 0, 1, 1, 0, 0, 0, 1, 0, 1]\n",
    "\n",
    "# 機械学習\n",
    "clf = LinearSVC()\n",
    "clf.fit(data, label)\n",
    "\n",
    "predict = clf.predict(problem) # 予測\n",
    "\n",
    "# 学習結果の精度を評価\n",
    "print(problem, 'の予測結果:', predict)\n",
    "print('正解率:', accuracy_score(answer, predict))"
   ]
  },
  {
   "cell_type": "code",
   "execution_count": 10,
   "metadata": {},
   "outputs": [
    {
     "name": "stdout",
     "output_type": "stream",
     "text": [
      "[[0, 0], [1, 1], [1, 0], [0, 0], [0, 1], [1, 1]] の予測結果: [0 0 1 0 1 0]\n",
      "正解率: 1.0\n"
     ]
    }
   ],
   "source": [
    "## XOR演算の機械学習の場合、LinearSVCアルゴリズムでは十分な正解率を得られなかった\n",
    "### チートシートより、アルゴリズムをKNeighborsClassifierに変更\n",
    "from sklearn.neighbors import KNeighborsClassifier\n",
    "\n",
    "# 学習データ\n",
    "data = [[0,0], [0,1], [1,0], [1,1]]\n",
    "label = [0, 1, 1, 0]\n",
    "\n",
    "# 機械学習\n",
    "clf = KNeighborsClassifier(n_neighbors=1)\n",
    "clf.fit(data, label)\n",
    "\n",
    "predict = clf.predict(problem) # 予測\n",
    "\n",
    "# 学習結果の精度を評価\n",
    "print(problem, 'の予測結果:', predict)\n",
    "print('正解率:', accuracy_score(answer, predict))"
   ]
  },
  {
   "cell_type": "code",
   "execution_count": null,
   "metadata": {},
   "outputs": [],
   "source": []
  }
 ],
 "metadata": {
  "kernelspec": {
   "display_name": "Python 3",
   "language": "python",
   "name": "python3"
  },
  "language_info": {
   "codemirror_mode": {
    "name": "ipython",
    "version": 3
   },
   "file_extension": ".py",
   "mimetype": "text/x-python",
   "name": "python",
   "nbconvert_exporter": "python",
   "pygments_lexer": "ipython3",
   "version": "3.6.5"
  }
 },
 "nbformat": 4,
 "nbformat_minor": 2
}
